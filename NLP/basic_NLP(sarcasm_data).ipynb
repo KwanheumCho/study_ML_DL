{
 "cells": [
  {
   "cell_type": "code",
   "execution_count": 32,
   "metadata": {},
   "outputs": [],
   "source": [
    "import json\n",
    "import os\n",
    "from tensorflow.keras.preprocessing.text import Tokenizer\n",
    "from tensorflow.keras.preprocessing.sequence import pad_sequences"
   ]
  },
  {
   "cell_type": "code",
   "execution_count": 33,
   "metadata": {},
   "outputs": [
    {
     "data": {
      "text/plain": [
       "['sarcasm.json', 'tmp']"
      ]
     },
     "execution_count": 33,
     "metadata": {},
     "output_type": "execute_result"
    }
   ],
   "source": [
    "os.listdir('./../../Kaggle/')"
   ]
  },
  {
   "cell_type": "code",
   "execution_count": 34,
   "metadata": {},
   "outputs": [],
   "source": [
    "with open(\"./../../Kaggle/sarcasm.json\", 'r' ) as f:\n",
    "    datastore = json.load(f)\n",
    "# json파일을 약간 수정해서 한번에 저장 가능한 꼴로 만들어줬음\n",
    "# 강의 참고\n",
    "# coursera에서 파일 다운로드"
   ]
  },
  {
   "cell_type": "code",
   "execution_count": 35,
   "metadata": {},
   "outputs": [],
   "source": [
    "sentences = []\n",
    "labels = []\n",
    "urls = [] #url data는 사용안할듯\n",
    "for item in datastore:\n",
    "    sentences.append(item['headline'])\n",
    "    labels.append(item['is_sarcastic'])\n",
    "    urls.append(item['article_link'])"
   ]
  },
  {
   "cell_type": "code",
   "execution_count": 36,
   "metadata": {},
   "outputs": [
    {
     "data": {
      "text/plain": [
       "26709"
      ]
     },
     "execution_count": 36,
     "metadata": {},
     "output_type": "execute_result"
    }
   ],
   "source": [
    "len(sentences)\n",
    "len(labels)"
   ]
  },
  {
   "cell_type": "markdown",
   "metadata": {},
   "source": [
    "# 파라미터 조정"
   ]
  },
  {
   "cell_type": "code",
   "execution_count": 37,
   "metadata": {},
   "outputs": [],
   "source": [
    "vocab_size = 1000\n",
    "embedding_dim = 16\n",
    "max_length = 30\n",
    "trunc_type='post'\n",
    "padding_type='post'\n",
    "oov_tok = \"<OOV>\"\n",
    "training_size = 20000"
   ]
  },
  {
   "cell_type": "code",
   "execution_count": 38,
   "metadata": {},
   "outputs": [],
   "source": [
    "training_sentences = sentences[0:training_size]\n",
    "testing_sentences = sentences[training_size:]\n",
    "training_labels = labels[0:training_size]\n",
    "testing_labels = labels[training_size:]"
   ]
  },
  {
   "cell_type": "code",
   "execution_count": 39,
   "metadata": {},
   "outputs": [
    {
     "name": "stdout",
     "output_type": "stream",
     "text": [
      "25637\n"
     ]
    }
   ],
   "source": [
    "tokenizer = Tokenizer(num_words=vocab_size, oov_token=oov_tok)\n",
    "tokenizer.fit_on_texts(training_sentences)\n",
    "word_index = tokenizer.word_index\n",
    "\n",
    "print(len(word_index))\n",
    "\n",
    "training_sequences = tokenizer.texts_to_sequences(training_sentences)\n",
    "training_padded = pad_sequences(training_sequences, maxlen=max_length, padding=padding_type, truncating=trunc_type)\n",
    "\n",
    "testing_sequences = tokenizer.texts_to_sequences(testing_sentences)\n",
    "testing_padded = pad_sequences(testing_sequences, maxlen=max_length, padding=padding_type, truncating=trunc_type)"
   ]
  },
  {
   "cell_type": "code",
   "execution_count": 40,
   "metadata": {},
   "outputs": [],
   "source": [
    "# Need this block to get it to work with TensorFlow 2.x\n",
    "import numpy as np\n",
    "training_padded = np.array(training_padded)\n",
    "training_labels = np.array(training_labels)\n",
    "testing_padded = np.array(testing_padded)\n",
    "testing_labels = np.array(testing_labels)"
   ]
  },
  {
   "cell_type": "code",
   "execution_count": 42,
   "metadata": {
    "scrolled": true
   },
   "outputs": [
    {
     "name": "stdout",
     "output_type": "stream",
     "text": [
      "Model: \"sequential_4\"\n",
      "_________________________________________________________________\n",
      "Layer (type)                 Output Shape              Param #   \n",
      "=================================================================\n",
      "embedding_4 (Embedding)      (None, 30, 16)            16000     \n",
      "_________________________________________________________________\n",
      "flatten (Flatten)            (None, 480)               0         \n",
      "_________________________________________________________________\n",
      "dense_8 (Dense)              (None, 24)                11544     \n",
      "_________________________________________________________________\n",
      "dense_9 (Dense)              (None, 1)                 25        \n",
      "=================================================================\n",
      "Total params: 27,569\n",
      "Trainable params: 27,569\n",
      "Non-trainable params: 0\n",
      "_________________________________________________________________\n"
     ]
    }
   ],
   "source": [
    "import tensorflow as tf\n",
    "model = tf.keras.Sequential([\n",
    "    tf.keras.layers.Embedding(vocab_size, embedding_dim, input_length=max_length),\n",
    "    tf.keras.layers.GlobalAveragePooling1D(),\n",
    "    #tf.keras.layers.Flatten(),\n",
    "    tf.keras.layers.Dense(24, activation='relu'),\n",
    "    tf.keras.layers.Dense(1, activation='sigmoid')\n",
    "])\n",
    "model.compile(loss='binary_crossentropy', optimizer='adam', metrics=['accuracy'])\n",
    "model.summary()"
   ]
  },
  {
   "cell_type": "code",
   "execution_count": 43,
   "metadata": {},
   "outputs": [
    {
     "name": "stdout",
     "output_type": "stream",
     "text": [
      "Epoch 1/30\n",
      "625/625 [==============================] - 3s 4ms/step - loss: 0.4530 - accuracy: 0.7715 - val_loss: 0.3703 - val_accuracy: 0.8275\n",
      "Epoch 2/30\n",
      "625/625 [==============================] - 2s 3ms/step - loss: 0.3257 - accuracy: 0.8522 - val_loss: 0.3622 - val_accuracy: 0.8363\n",
      "Epoch 3/30\n",
      "625/625 [==============================] - 3s 5ms/step - loss: 0.2918 - accuracy: 0.8709 - val_loss: 0.3731 - val_accuracy: 0.8267\n",
      "Epoch 4/30\n",
      "625/625 [==============================] - 3s 5ms/step - loss: 0.2635 - accuracy: 0.8846 - val_loss: 0.3843 - val_accuracy: 0.8250\n",
      "Epoch 5/30\n",
      "625/625 [==============================] - 2s 3ms/step - loss: 0.2362 - accuracy: 0.8980 - val_loss: 0.4107 - val_accuracy: 0.8210\n",
      "Epoch 6/30\n",
      "625/625 [==============================] - 3s 5ms/step - loss: 0.2102 - accuracy: 0.9125 - val_loss: 0.4430 - val_accuracy: 0.8150\n",
      "Epoch 7/30\n",
      "625/625 [==============================] - 3s 5ms/step - loss: 0.1846 - accuracy: 0.9255 - val_loss: 0.4853 - val_accuracy: 0.8104\n",
      "Epoch 8/30\n",
      "625/625 [==============================] - 3s 5ms/step - loss: 0.1630 - accuracy: 0.9385 - val_loss: 0.5370 - val_accuracy: 0.8018\n",
      "Epoch 9/30\n",
      "625/625 [==============================] - 3s 4ms/step - loss: 0.1475 - accuracy: 0.9415 - val_loss: 0.5754 - val_accuracy: 0.7980\n",
      "Epoch 10/30\n",
      "625/625 [==============================] - 2s 3ms/step - loss: 0.1343 - accuracy: 0.9489 - val_loss: 0.6324 - val_accuracy: 0.7995\n",
      "Epoch 11/30\n",
      "625/625 [==============================] - 3s 4ms/step - loss: 0.1212 - accuracy: 0.9539 - val_loss: 0.6899 - val_accuracy: 0.7897\n",
      "Epoch 12/30\n",
      "625/625 [==============================] - 3s 5ms/step - loss: 0.1134 - accuracy: 0.9566 - val_loss: 0.7400 - val_accuracy: 0.7915\n",
      "Epoch 13/30\n",
      "625/625 [==============================] - 3s 5ms/step - loss: 0.1044 - accuracy: 0.9604 - val_loss: 0.7800 - val_accuracy: 0.7840\n",
      "Epoch 14/30\n",
      "625/625 [==============================] - 2s 4ms/step - loss: 0.1003 - accuracy: 0.9623 - val_loss: 0.8261 - val_accuracy: 0.7872\n",
      "Epoch 15/30\n",
      "625/625 [==============================] - 2s 3ms/step - loss: 0.0930 - accuracy: 0.9650 - val_loss: 0.9138 - val_accuracy: 0.7830\n",
      "Epoch 16/30\n",
      "625/625 [==============================] - 3s 4ms/step - loss: 0.0886 - accuracy: 0.9670 - val_loss: 0.9358 - val_accuracy: 0.7776\n",
      "Epoch 17/30\n",
      "625/625 [==============================] - 3s 5ms/step - loss: 0.0850 - accuracy: 0.9673 - val_loss: 0.9393 - val_accuracy: 0.7801\n",
      "Epoch 18/30\n",
      "625/625 [==============================] - 2s 3ms/step - loss: 0.0822 - accuracy: 0.9686 - val_loss: 0.9973 - val_accuracy: 0.7793\n",
      "Epoch 19/30\n",
      "625/625 [==============================] - 2s 4ms/step - loss: 0.0795 - accuracy: 0.9708 - val_loss: 1.0853 - val_accuracy: 0.7681\n",
      "Epoch 20/30\n",
      "625/625 [==============================] - 2s 4ms/step - loss: 0.0758 - accuracy: 0.9715 - val_loss: 1.0526 - val_accuracy: 0.7757\n",
      "Epoch 21/30\n",
      "625/625 [==============================] - 2s 3ms/step - loss: 0.0737 - accuracy: 0.9713 - val_loss: 1.1055 - val_accuracy: 0.7672\n",
      "Epoch 22/30\n",
      "625/625 [==============================] - 2s 3ms/step - loss: 0.0725 - accuracy: 0.9711 - val_loss: 1.1740 - val_accuracy: 0.7730\n",
      "Epoch 23/30\n",
      "625/625 [==============================] - 2s 3ms/step - loss: 0.0702 - accuracy: 0.9727 - val_loss: 1.2187 - val_accuracy: 0.7687\n",
      "Epoch 24/30\n",
      "625/625 [==============================] - 2s 4ms/step - loss: 0.0691 - accuracy: 0.9723 - val_loss: 1.1746 - val_accuracy: 0.7666\n",
      "Epoch 25/30\n",
      "625/625 [==============================] - 2s 4ms/step - loss: 0.0659 - accuracy: 0.9751 - val_loss: 1.2682 - val_accuracy: 0.7678\n",
      "Epoch 26/30\n",
      "625/625 [==============================] - 2s 3ms/step - loss: 0.0646 - accuracy: 0.9754 - val_loss: 1.2828 - val_accuracy: 0.7642\n",
      "Epoch 27/30\n",
      "625/625 [==============================] - 2s 4ms/step - loss: 0.0632 - accuracy: 0.9760 - val_loss: 1.3203 - val_accuracy: 0.7672\n",
      "Epoch 28/30\n",
      "625/625 [==============================] - 3s 5ms/step - loss: 0.0623 - accuracy: 0.9755 - val_loss: 1.3610 - val_accuracy: 0.7627\n",
      "Epoch 29/30\n",
      "625/625 [==============================] - 3s 4ms/step - loss: 0.0596 - accuracy: 0.9772 - val_loss: 1.4174 - val_accuracy: 0.7645\n",
      "Epoch 30/30\n",
      "625/625 [==============================] - 2s 3ms/step - loss: 0.0588 - accuracy: 0.9769 - val_loss: 1.4411 - val_accuracy: 0.7621\n"
     ]
    }
   ],
   "source": [
    "num_epochs=30\n",
    "history = model.fit(training_padded, training_labels, epochs=num_epochs, validation_data=(testing_padded, testing_labels), verbose=1)"
   ]
  },
  {
   "cell_type": "code",
   "execution_count": 44,
   "metadata": {},
   "outputs": [
    {
     "data": {
      "image/png": "[encoded data removed]",
      "text/plain": [
       "<Figure size 432x288 with 1 Axes>"
      ]
     },
     "metadata": {
      "needs_background": "light"
     },
     "output_type": "display_data"
    },
    {
     "data": {
      "image/png": "[encoded data removed]",
      "text/plain": [
       "<Figure size 432x288 with 1 Axes>"
      ]
     },
     "metadata": {
      "needs_background": "light"
     },
     "output_type": "display_data"
    }
   ],
   "source": [
    "import matplotlib.pyplot as plt\n",
    "\n",
    "\n",
    "def plot_graphs(history, string):\n",
    "  plt.plot(history.history[string])\n",
    "  plt.plot(history.history['val_'+string])\n",
    "  plt.xlabel(\"Epochs\")\n",
    "  plt.ylabel(string)\n",
    "  plt.legend([string, 'val_'+string])\n",
    "  plt.show()\n",
    "  \n",
    "plot_graphs(history, \"accuracy\")\n",
    "plot_graphs(history, \"loss\")"
   ]
  },
  {
   "cell_type": "markdown",
   "metadata": {},
   "source": [
    "토큰화해서 트레이닝을 시켰는데 왜 acc 와 loss가 원하는 결과대로 나오지 않을까?\n",
    "=> 단순히 단어만으로 토큰화하는 것은 성능이 안좋을 수 밖에 없다. 문장에서 단어는 앞뒤 문맥에 따라 의미가 천차만별이므로. 따라서 RNN을 사용하여 sequence의 문맥을 활용해 트레이닝을 해보자."
   ]
  },
  {
   "cell_type": "code",
   "execution_count": null,
   "metadata": {},
   "outputs": [],
   "source": []
  }
 ],
 "metadata": {
  "kernelspec": {
   "display_name": "Python 3",
   "language": "python",
   "name": "python3"
  },
  "language_info": {
   "codemirror_mode": {
    "name": "ipython",
    "version": 3
   },
   "file_extension": ".py",
   "mimetype": "text/x-python",
   "name": "python",
   "nbconvert_exporter": "python",
   "pygments_lexer": "ipython3",
   "version": "3.6.8"
  }
 },
 "nbformat": 4,
 "nbformat_minor": 4
}
