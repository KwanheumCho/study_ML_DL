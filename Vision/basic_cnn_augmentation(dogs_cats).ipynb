{
 "cells": [
  {
   "cell_type": "code",
   "execution_count": 1,
   "metadata": {},
   "outputs": [],
   "source": [
    "import os\n",
    "import zipfile\n",
    "import tensorflow as tf\n",
    "import shutil\n",
    "from tensorflow.keras.optimizers import RMSprop\n",
    "from tensorflow.keras.preprocessing.image import ImageDataGenerator\n",
    "from os import getcwd"
   ]
  },
  {
   "cell_type": "code",
   "execution_count": 4,
   "metadata": {},
   "outputs": [
    {
     "data": {
      "text/plain": [
       "['sarcasm.json', 'tmp']"
      ]
     },
     "execution_count": 4,
     "metadata": {},
     "output_type": "execute_result"
    }
   ],
   "source": [
    "os.listdir(\"{getcwd()}/../../../../Kaggle\")\n",
    "os.listdir(\"{getcwd()}/../../../Kaggle\")"
   ]
  },
  {
   "cell_type": "code",
   "execution_count": 3,
   "metadata": {},
   "outputs": [],
   "source": [
    "path_dogs_and_cats = f\"{getcwd()}/../../../../Kaggle/dogs_and_cats.zip\" \n",
    "origin_path = \"{getcwd()}/../../../Kaggle/tmp\" #github 폴더 밑에 Kaggle\n",
    "local_zip = path_dogs_and_cats \n",
    "zip_ref = zipfile.ZipFile(local_zip, 'r')\n",
    "zip_ref.extractall(origin_path)\n",
    "zip_ref.close()"
   ]
  },
  {
   "cell_type": "markdown",
   "metadata": {},
   "source": [
    "Origin_path / dataset 하위에 training set폴더와 test set폴더가 각각 존재."
   ]
  },
  {
   "cell_type": "code",
   "execution_count": 5,
   "metadata": {
    "scrolled": false
   },
   "outputs": [
    {
     "name": "stdout",
     "output_type": "stream",
     "text": [
      "['cats', 'dogs']\n",
      "['cats', 'dogs']\n",
      "4000\n",
      "1000\n"
     ]
    }
   ],
   "source": [
    "print(os.listdir(origin_path+'/dataset/training_set'))\n",
    "print(os.listdir(origin_path+'/dataset/test_set'))\n",
    "print(len(os.listdir(origin_path+'/dataset/training_set/dogs')))\n",
    "print(len(os.listdir(origin_path+'/dataset/test_set/dogs')))"
   ]
  },
  {
   "cell_type": "markdown",
   "metadata": {},
   "source": [
    "Image Generator를 이용해서 훈련데이터를 생성해줄 때 augmentation을 적용해줄 수 있다.\n",
    "아래 첫번째셀 : 픽셀 값만 rescale\n",
    "아래 두번째셀 : 여러 값들에 대해 변수 지정"
   ]
  },
  {
   "cell_type": "code",
   "execution_count": 7,
   "metadata": {},
   "outputs": [
    {
     "name": "stdout",
     "output_type": "stream",
     "text": [
      "Found 8000 images belonging to 2 classes.\n",
      "Found 2000 images belonging to 2 classes.\n"
     ]
    }
   ],
   "source": [
    "# Iamge Generator를 이용해서 rescale만 하는 경우\n",
    "TRAINING_DIR = origin_path+'/dataset/training_set'\n",
    "train_datagen = ImageDataGenerator(rescale=1.0/255.0)\n",
    "train_generator = train_datagen.flow_from_directory(TRAINING_DIR, batch_size=20, class_mode='binary', target_size=(150,150))\n",
    "\n",
    "VALIDATION_DIR = origin_path+'/dataset/test_set'\n",
    "validation_datagen = ImageDataGenerator(rescale = 1.0/255.0)\n",
    "validation_generator =  validation_datagen.flow_from_directory(VALIDATION_DIR, batch_size=20, class_mode='binary', target_size=(150,150))"
   ]
  },
  {
   "cell_type": "code",
   "execution_count": null,
   "metadata": {},
   "outputs": [],
   "source": [
    "# Iamge Generator를 이용해서 image augmentation을 하는 경우\n",
    "TRAINING_DIR = origin_path+'/dataset/training_set'\n",
    "train_datagen =ImageDataGenerator(\n",
    "      rescale=1./255,\n",
    "      rotation_range=40,\n",
    "      width_shift_range=0.2,\n",
    "      height_shift_range=0.2,\n",
    "      shear_range=0.2,\n",
    "      zoom_range=0.2,\n",
    "      horizontal_flip=True,\n",
    "      fill_mode='nearest')\n",
    "train_generator = train_datagen.flow_from_directory(TRAINING_DIR, batch_size=20, class_mode='binary', target_size=(150,150))\n",
    "\n",
    "VALIDATION_DIR = origin_path+'/dataset/test_set'\n",
    "validation_datagen = ImageDataGenerator(rescale = 1.0/255.0)\n",
    "validation_generator =  validation_datagen.flow_from_directory(VALIDATION_DIR, batch_size=20, class_mode='binary', target_size=(150,150))"
   ]
  },
  {
   "cell_type": "markdown",
   "metadata": {},
   "source": [
    "4-layer 의 CNN 모델 이용."
   ]
  },
  {
   "cell_type": "code",
   "execution_count": 6,
   "metadata": {
    "scrolled": true
   },
   "outputs": [
    {
     "name": "stdout",
     "output_type": "stream",
     "text": [
      "Model: \"sequential\"\n",
      "_________________________________________________________________\n",
      "Layer (type)                 Output Shape              Param #   \n",
      "=================================================================\n",
      "conv2d (Conv2D)              (None, 148, 148, 32)      896       \n",
      "_________________________________________________________________\n",
      "max_pooling2d (MaxPooling2D) (None, 74, 74, 32)        0         \n",
      "_________________________________________________________________\n",
      "conv2d_1 (Conv2D)            (None, 72, 72, 64)        18496     \n",
      "_________________________________________________________________\n",
      "max_pooling2d_1 (MaxPooling2 (None, 36, 36, 64)        0         \n",
      "_________________________________________________________________\n",
      "conv2d_2 (Conv2D)            (None, 34, 34, 128)       73856     \n",
      "_________________________________________________________________\n",
      "max_pooling2d_2 (MaxPooling2 (None, 17, 17, 128)       0         \n",
      "_________________________________________________________________\n",
      "conv2d_3 (Conv2D)            (None, 15, 15, 128)       147584    \n",
      "_________________________________________________________________\n",
      "max_pooling2d_3 (MaxPooling2 (None, 7, 7, 128)         0         \n",
      "_________________________________________________________________\n",
      "flatten (Flatten)            (None, 6272)              0         \n",
      "_________________________________________________________________\n",
      "dense (Dense)                (None, 512)               3211776   \n",
      "_________________________________________________________________\n",
      "dense_1 (Dense)              (None, 1)                 513       \n",
      "=================================================================\n",
      "Total params: 3,453,121\n",
      "Trainable params: 3,453,121\n",
      "Non-trainable params: 0\n",
      "_________________________________________________________________\n"
     ]
    }
   ],
   "source": [
    "model = tf.keras.models.Sequential([\n",
    "    tf.keras.layers.Conv2D(32, (3,3), input_shape=(150, 150, 3), activation='relu'),\n",
    "    tf.keras.layers.MaxPooling2D((2,2)),\n",
    "    tf.keras.layers.Conv2D(64, (3,3), activation='relu'),\n",
    "    tf.keras.layers.MaxPooling2D((2,2)),\n",
    "    tf.keras.layers.Conv2D(128, (3,3), activation='relu'),\n",
    "    tf.keras.layers.MaxPooling2D((2,2)),\n",
    "    tf.keras.layers.Conv2D(128, (3,3), activation='relu'),\n",
    "    tf.keras.layers.MaxPooling2D((2,2)),\n",
    "    tf.keras.layers.Flatten(),\n",
    "    tf.keras.layers.Dense(512, activation='relu'),\n",
    "    tf.keras.layers.Dense(1, activation='sigmoid')\n",
    "])\n",
    "model.summary()\n",
    "model.compile(optimizer=RMSprop(lr=0.001), loss='binary_crossentropy', metrics=['acc'])"
   ]
  },
  {
   "cell_type": "code",
   "execution_count": 10,
   "metadata": {
    "scrolled": true
   },
   "outputs": [
    {
     "name": "stdout",
     "output_type": "stream",
     "text": [
      "Epoch 1/10\n",
      "100/100 [==============================] - 77s 768ms/step - loss: 0.6400 - acc: 0.6500 - val_loss: 0.6613 - val_acc: 0.6290\n",
      "Epoch 2/10\n",
      "100/100 [==============================] - 66s 660ms/step - loss: 0.6284 - acc: 0.6495 - val_loss: 0.6321 - val_acc: 0.6320\n",
      "Epoch 3/10\n",
      "100/100 [==============================] - 66s 659ms/step - loss: 0.6045 - acc: 0.6895 - val_loss: 0.5811 - val_acc: 0.6900\n",
      "Epoch 4/10\n",
      "100/100 [==============================] - 67s 675ms/step - loss: 0.5912 - acc: 0.6905 - val_loss: 0.7471 - val_acc: 0.6230\n",
      "Epoch 5/10\n",
      "100/100 [==============================] - 67s 672ms/step - loss: 0.5682 - acc: 0.7165 - val_loss: 0.5291 - val_acc: 0.7310\n",
      "Epoch 6/10\n",
      "100/100 [==============================] - 70s 704ms/step - loss: 0.5419 - acc: 0.7305 - val_loss: 0.5643 - val_acc: 0.7045\n",
      "Epoch 7/10\n",
      "100/100 [==============================] - 72s 723ms/step - loss: 0.5040 - acc: 0.7560 - val_loss: 0.5404 - val_acc: 0.7255\n",
      "Epoch 8/10\n",
      "100/100 [==============================] - 67s 670ms/step - loss: 0.5051 - acc: 0.7560 - val_loss: 0.5115 - val_acc: 0.7540\n",
      "Epoch 9/10\n",
      "100/100 [==============================] - 66s 656ms/step - loss: 0.4821 - acc: 0.7650 - val_loss: 0.5344 - val_acc: 0.7395\n",
      "Epoch 10/10\n",
      "100/100 [==============================] - 74s 735ms/step - loss: 0.4863 - acc: 0.7770 - val_loss: 0.5472 - val_acc: 0.7265\n"
     ]
    }
   ],
   "source": [
    "history = model.fit_generator(train_generator,\n",
    "                              steps_per_epoch=100,\n",
    "                              epochs=10,\n",
    "                              verbose=1,\n",
    "                              validation_data=validation_generator)"
   ]
  },
  {
   "cell_type": "code",
   "execution_count": 40,
   "metadata": {},
   "outputs": [
    {
     "data": {
      "text/plain": [
       "['bed-1284238_1280.jpg',\n",
       " 'cat-1045782_640.jpg',\n",
       " 'cat-2083492_640.jpg',\n",
       " 'cat-551554_640.jpg',\n",
       " 'pug-690566_640.jpg',\n",
       " 'puppy-1207816_640.jpg']"
      ]
     },
     "execution_count": 40,
     "metadata": {},
     "output_type": "execute_result"
    }
   ],
   "source": [
    "import numpy as np\n",
    "from tensorflow.keras.preprocessing import image\n",
    "from IPython.display import Image\n",
    "\n",
    "os.listdir('../.././Kaggle/cat_dog_test')"
   ]
  },
  {
   "cell_type": "code",
   "execution_count": 47,
   "metadata": {},
   "outputs": [
    {
     "name": "stdout",
     "output_type": "stream",
     "text": [
      "[1.]\n",
      " is a dog\n",
      "../.././Kaggle/cat_dog_test/bed-1284238_1280.jpg\n",
      "[0.]\n",
      " is a cat\n",
      "../.././Kaggle/cat_dog_test/cat-1045782_640.jpg\n",
      "[1.]\n",
      " is a dog\n",
      "../.././Kaggle/cat_dog_test/cat-2083492_640.jpg\n",
      "[0.]\n",
      " is a cat\n",
      "../.././Kaggle/cat_dog_test/cat-551554_640.jpg\n",
      "[1.]\n",
      " is a dog\n",
      "../.././Kaggle/cat_dog_test/pug-690566_640.jpg\n",
      "[1.]\n",
      " is a dog\n",
      "../.././Kaggle/cat_dog_test/puppy-1207816_640.jpg\n"
     ]
    }
   ],
   "source": [
    "path = '../.././Kaggle/cat_dog_test/'\n",
    "img_list = os.listdir(path)\n",
    "\n",
    "for name in img_list :\n",
    "    img = image.load_img(path+name, target_size=(150,150))\n",
    "    x = image.img_to_array(img)\n",
    "    x = np.expand_dims(x, axis=0)\n",
    "\n",
    "    images = np.vstack([x])\n",
    "    classes = model.predict(images, batch_size=10)\n",
    "    print(classes[0])\n",
    "    if classes[0]>0.5:\n",
    "        print(\" is a dog\")\n",
    "    else:\n",
    "        print(\" is a cat\")\n",
    "    print(path+name)"
   ]
  },
  {
   "cell_type": "code",
   "execution_count": 11,
   "metadata": {},
   "outputs": [
    {
     "data": {
      "text/plain": [
       "Text(0.5, 1.0, 'Training and validation loss')"
      ]
     },
     "execution_count": 11,
     "metadata": {},
     "output_type": "execute_result"
    },
    {
     "data": {
      "image/png": "[encoded data removed]",
      "text/plain": [
       "<Figure size 432x288 with 1 Axes>"
      ]
     },
     "metadata": {
      "needs_background": "light"
     },
     "output_type": "display_data"
    },
    {
     "data": {
      "image/png": "[encoded data removed]",
      "text/plain": [
       "<Figure size 432x288 with 1 Axes>"
      ]
     },
     "metadata": {
      "needs_background": "light"
     },
     "output_type": "display_data"
    }
   ],
   "source": [
    "# PLOT LOSS AND ACCURACY\n",
    "%matplotlib inline\n",
    "\n",
    "import matplotlib.image  as mpimg\n",
    "import matplotlib.pyplot as plt\n",
    "\n",
    "#-----------------------------------------------------------\n",
    "# Retrieve a list of list results on training and test data\n",
    "# sets for each training epoch\n",
    "#-----------------------------------------------------------\n",
    "acc=history.history['acc']\n",
    "val_acc=history.history['val_acc']\n",
    "loss=history.history['loss']\n",
    "val_loss=history.history['val_loss']\n",
    "\n",
    "epochs=range(len(acc)) # Get number of epochs\n",
    "\n",
    "#------------------------------------------------\n",
    "# Plot training and validation accuracy per epoch\n",
    "#------------------------------------------------\n",
    "plt.plot(epochs, acc, 'r', \"Training Accuracy\")\n",
    "plt.plot(epochs, val_acc, 'b', \"Validation Accuracy\")\n",
    "plt.title('Training and validation accuracy')\n",
    "plt.figure()\n",
    "\n",
    "#------------------------------------------------\n",
    "# Plot training and validation loss per epoch\n",
    "#------------------------------------------------\n",
    "plt.plot(epochs, loss, 'r', \"Training Loss\")\n",
    "plt.plot(epochs, val_loss, 'b', \"Validation Loss\")\n",
    "\n",
    "\n",
    "plt.title('Training and validation loss')\n",
    "\n",
    "# Desired output. Charts with training and validation metrics. No crash :)"
   ]
  },
  {
   "cell_type": "code",
   "execution_count": 14,
   "metadata": {},
   "outputs": [
    {
     "data": {
      "image/png": "[encoded data removed]",
      "text/plain": [
       "<Figure size 432x288 with 1 Axes>"
      ]
     },
     "metadata": {
      "needs_background": "light"
     },
     "output_type": "display_data"
    },
    {
     "data": {
      "image/png": "[encoded data removed]",
      "text/plain": [
       "<Figure size 432x288 with 1 Axes>"
      ]
     },
     "metadata": {
      "needs_background": "light"
     },
     "output_type": "display_data"
    }
   ],
   "source": [
    "import matplotlib.pyplot as plt\n",
    "acc = history.history['acc']\n",
    "val_acc = history.history['val_acc']\n",
    "loss = history.history['loss']\n",
    "val_loss = history.history['val_loss']\n",
    "\n",
    "epochs = range(len(acc))\n",
    "\n",
    "plt.plot(epochs, acc, 'bo', label='Training accuracy')\n",
    "plt.plot(epochs, val_acc, 'b', label='Validation accuracy')\n",
    "plt.title('Training and validation accuracy')\n",
    "\n",
    "plt.figure()\n",
    "\n",
    "plt.plot(epochs, loss, 'bo', label='Training Loss')\n",
    "plt.plot(epochs, val_loss, 'b', label='Validation Loss')\n",
    "plt.title('Training and validation loss')\n",
    "plt.legend()\n",
    "\n",
    "plt.show()"
   ]
  },
  {
   "cell_type": "code",
   "execution_count": null,
   "metadata": {},
   "outputs": [],
   "source": []
  }
 ],
 "metadata": {
  "kernelspec": {
   "display_name": "Python 3",
   "language": "python",
   "name": "python3"
  },
  "language_info": {
   "codemirror_mode": {
    "name": "ipython",
    "version": 3
   },
   "file_extension": ".py",
   "mimetype": "text/x-python",
   "name": "python",
   "nbconvert_exporter": "python",
   "pygments_lexer": "ipython3",
   "version": "3.6.8"
  }
 },
 "nbformat": 4,
 "nbformat_minor": 4
}
