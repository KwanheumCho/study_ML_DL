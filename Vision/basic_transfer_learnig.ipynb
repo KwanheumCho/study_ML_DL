{
 "cells": [
  {
   "cell_type": "code",
   "execution_count": 1,
   "metadata": {},
   "outputs": [],
   "source": [
    "import os\n",
    "from tensorflow.keras import layers\n",
    "from tensorflow.keras import Model"
   ]
  },
  {
   "cell_type": "markdown",
   "metadata": {},
   "source": [
    "!wget --no-check-certificate \\\n",
    "    https://storage.googleapis.com/mledu-datasets/inception_v3_weights_tf_dim_ordering_tf_kernels_notop.h5 \\\n",
    "    -O /tmp/inception_v3_weights_tf_dim_ordering_tf_kernels_notop.h5"
   ]
  },
  {
   "cell_type": "code",
   "execution_count": 2,
   "metadata": {},
   "outputs": [
    {
     "data": {
      "text/plain": [
       "['cat_dog_test',\n",
       " 'inception_v3_weights_tf_dim_ordering_tf_kernels_notop.h5',\n",
       " 'sarcasm.json',\n",
       " 'tmp']"
      ]
     },
     "execution_count": 2,
     "metadata": {},
     "output_type": "execute_result"
    }
   ],
   "source": [
    "os.listdir('../../Kaggle/')"
   ]
  },
  {
   "cell_type": "code",
   "execution_count": 3,
   "metadata": {},
   "outputs": [],
   "source": [
    "from tensorflow.keras.applications.inception_v3 import InceptionV3"
   ]
  },
  {
   "cell_type": "code",
   "execution_count": 4,
   "metadata": {},
   "outputs": [],
   "source": [
    "local_weights_file = '../../Kaggle/inception_v3_weights_tf_dim_ordering_tf_kernels_notop.h5'"
   ]
  },
  {
   "cell_type": "code",
   "execution_count": 6,
   "metadata": {},
   "outputs": [],
   "source": [
    "pre_trained_model = InceptionV3(input_shape=(150,150,3),\n",
    "                               include_top = False,\n",
    "                               weights = None)\n",
    "pre_trained_model.load_weights(local_weights_file)"
   ]
  },
  {
   "cell_type": "code",
   "execution_count": 7,
   "metadata": {},
   "outputs": [],
   "source": [
    "#pre_trained_model.trainable=False\n",
    "\n",
    "for layer in pre_trained_model.layers:\n",
    "    layer.trainable = False\n"
   ]
  },
  {
   "cell_type": "code",
   "execution_count": null,
   "metadata": {},
   "outputs": [],
   "source": [
    "#pre_trained_model.summary()"
   ]
  },
  {
   "cell_type": "code",
   "execution_count": 8,
   "metadata": {},
   "outputs": [
    {
     "name": "stdout",
     "output_type": "stream",
     "text": [
      "last layer output shape:  (None, 7, 7, 768)\n",
      "Tensor(\"mixed7/concat_1:0\", shape=(None, 7, 7, 768), dtype=float32)\n"
     ]
    }
   ],
   "source": [
    "last_layer = pre_trained_model.get_layer('mixed7')\n",
    "print('last layer output shape: ', last_layer.output_shape)\n",
    "last_output = last_layer.output\n",
    "print(last_output)"
   ]
  },
  {
   "cell_type": "code",
   "execution_count": 9,
   "metadata": {},
   "outputs": [],
   "source": [
    "from tensorflow.keras.optimizers import RMSprop\n",
    "\n",
    "x = layers.Flatten()(last_output)\n",
    "x = layers.Dense(1024, activation='relu')(x)\n",
    "x = layers.Dropout(0.2)(x)\n",
    "x = layers.Dense(1, activation='sigmoid')(x)\n",
    "\n",
    "model = Model( pre_trained_model.input, x)\n",
    "#model.summary()\n",
    "model.compile( optimizer= RMSprop(lr=0.0001),\n",
    "             loss = 'binary_crossentropy',\n",
    "             metrics=['acc'])"
   ]
  },
  {
   "cell_type": "code",
   "execution_count": 10,
   "metadata": {},
   "outputs": [
    {
     "data": {
      "text/plain": [
       "['test_set', 'training_set']"
      ]
     },
     "execution_count": 10,
     "metadata": {},
     "output_type": "execute_result"
    }
   ],
   "source": [
    "os.listdir('../../Kaggle/tmp/dataset/')"
   ]
  },
  {
   "cell_type": "code",
   "execution_count": 11,
   "metadata": {},
   "outputs": [
    {
     "name": "stdout",
     "output_type": "stream",
     "text": [
      "Found 8000 images belonging to 2 classes.\n",
      "Found 2000 images belonging to 2 classes.\n"
     ]
    }
   ],
   "source": [
    "from tensorflow.keras.preprocessing.image import ImageDataGenerator\n",
    "base_dir = '../../Kaggle/tmp/dataset/'\n",
    "train_dir = os.path.join( base_dir, 'training_set')\n",
    "test_dir = os.path.join( base_dir, 'test_set')\n",
    "\n",
    "train_datagen = ImageDataGenerator( rescale = 1.0/255.0,\n",
    "                                  rotation_range = 40,\n",
    "                                  width_shift_range =0.2,\n",
    "                                  height_shift_range=0.2,\n",
    "                                  shear_range=0.2,\n",
    "                                  zoom_range = 0.2,\n",
    "                                  horizontal_flip = True)\n",
    "test_datagen = ImageDataGenerator( rescale = 1.0/255.0)\n",
    "\n",
    "train_generator = train_datagen.flow_from_directory(train_dir,\n",
    "                                                   batch_size=20,\n",
    "                                                   class_mode = 'binary',\n",
    "                                                   target_size=(150,150))\n",
    "test_generator = test_datagen.flow_from_directory(test_dir,\n",
    "                                                 batch_size=20,\n",
    "                                                 class_mode='binary',\n",
    "                                                 target_size=(150,150))"
   ]
  },
  {
   "cell_type": "code",
   "execution_count": 12,
   "metadata": {},
   "outputs": [
    {
     "name": "stdout",
     "output_type": "stream",
     "text": [
      "Epoch 1/20\n",
      "100/100 [==============================] - 128s 1s/step - loss: 0.3510 - acc: 0.8625 - val_loss: 0.1442 - val_acc: 0.9400\n",
      "Epoch 2/20\n",
      "100/100 [==============================] - 127s 1s/step - loss: 0.2342 - acc: 0.9165 - val_loss: 0.1297 - val_acc: 0.9480\n",
      "Epoch 3/20\n",
      "100/100 [==============================] - 125s 1s/step - loss: 0.2094 - acc: 0.9230 - val_loss: 0.1064 - val_acc: 0.9550\n",
      "Epoch 4/20\n",
      "100/100 [==============================] - 128s 1s/step - loss: 0.1961 - acc: 0.9265 - val_loss: 0.2064 - val_acc: 0.9310\n",
      "Epoch 5/20\n",
      "100/100 [==============================] - 128s 1s/step - loss: 0.2091 - acc: 0.9300 - val_loss: 0.1265 - val_acc: 0.9480\n",
      "Epoch 6/20\n",
      "100/100 [==============================] - 126s 1s/step - loss: 0.2007 - acc: 0.9325 - val_loss: 0.1398 - val_acc: 0.9530\n",
      "Epoch 7/20\n",
      "100/100 [==============================] - 126s 1s/step - loss: 0.1702 - acc: 0.9330 - val_loss: 0.1183 - val_acc: 0.9650\n",
      "Epoch 8/20\n",
      "100/100 [==============================] - 125s 1s/step - loss: 0.1895 - acc: 0.9355 - val_loss: 0.1226 - val_acc: 0.9660\n",
      "Epoch 9/20\n",
      "100/100 [==============================] - 126s 1s/step - loss: 0.1822 - acc: 0.9395 - val_loss: 0.1243 - val_acc: 0.9650\n",
      "Epoch 10/20\n",
      "100/100 [==============================] - 105s 1s/step - loss: 0.1905 - acc: 0.9310 - val_loss: 0.1076 - val_acc: 0.9610\n",
      "Epoch 11/20\n",
      "100/100 [==============================] - 104s 1s/step - loss: 0.1979 - acc: 0.9315 - val_loss: 0.0961 - val_acc: 0.9650\n",
      "Epoch 12/20\n",
      "100/100 [==============================] - 103s 1s/step - loss: 0.1963 - acc: 0.9235 - val_loss: 0.0890 - val_acc: 0.9740\n",
      "Epoch 13/20\n",
      "100/100 [==============================] - 102s 1s/step - loss: 0.1770 - acc: 0.9365 - val_loss: 0.0855 - val_acc: 0.9660\n",
      "Epoch 14/20\n",
      "100/100 [==============================] - 104s 1s/step - loss: 0.1628 - acc: 0.9395 - val_loss: 0.0616 - val_acc: 0.9760\n",
      "Epoch 15/20\n",
      "100/100 [==============================] - 103s 1s/step - loss: 0.1795 - acc: 0.9390 - val_loss: 0.0852 - val_acc: 0.9690\n",
      "Epoch 16/20\n",
      "100/100 [==============================] - 104s 1s/step - loss: 0.1878 - acc: 0.9380 - val_loss: 0.1112 - val_acc: 0.9650\n",
      "Epoch 17/20\n",
      "100/100 [==============================] - 102s 1s/step - loss: 0.1731 - acc: 0.9370 - val_loss: 0.0844 - val_acc: 0.9700\n",
      "Epoch 18/20\n",
      "100/100 [==============================] - 101s 1s/step - loss: 0.1702 - acc: 0.9420 - val_loss: 0.1040 - val_acc: 0.9700\n",
      "Epoch 19/20\n",
      "100/100 [==============================] - 110s 1s/step - loss: 0.1789 - acc: 0.9390 - val_loss: 0.1062 - val_acc: 0.9650\n",
      "Epoch 20/20\n",
      "100/100 [==============================] - 109s 1s/step - loss: 0.1705 - acc: 0.9440 - val_loss: 0.1127 - val_acc: 0.9760\n"
     ]
    }
   ],
   "source": [
    "history = model.fit(train_generator,\n",
    "                    steps_per_epoch=100,\n",
    "                   validation_data = test_generator,\n",
    "                   epochs = 20,\n",
    "                    validation_steps=50,\n",
    "                   verbose=1)"
   ]
  },
  {
   "cell_type": "code",
   "execution_count": null,
   "metadata": {},
   "outputs": [],
   "source": [
    "import matplotlib.pyplot as plt\n",
    "acc = history.history['acc']\n",
    "val_acc = history.history['val_acc']\n",
    "loss = history.history['loss']\n",
    "val_loss = history.history['val_loss']\n",
    "\n",
    "epochs = range(len(acc))\n",
    "\n",
    "plt.plot(epochs, acc, 'r', label='Training accuracy')\n",
    "plt.plot(epochs, val_acc, 'b', label='Validation accuracy')\n",
    "plt.title('Training and validation accuracy')\n",
    "plt.legend(loc=0)\n",
    "plt.figure()\n",
    "\n",
    "\n",
    "plt.show()"
   ]
  },
  {
   "cell_type": "code",
   "execution_count": null,
   "metadata": {},
   "outputs": [],
   "source": []
  }
 ],
 "metadata": {
  "kernelspec": {
   "display_name": "Python 3",
   "language": "python",
   "name": "python3"
  },
  "language_info": {
   "codemirror_mode": {
    "name": "ipython",
    "version": 3
   },
   "file_extension": ".py",
   "mimetype": "text/x-python",
   "name": "python",
   "nbconvert_exporter": "python",
   "pygments_lexer": "ipython3",
   "version": "3.6.8"
  }
 },
 "nbformat": 4,
 "nbformat_minor": 4
}
