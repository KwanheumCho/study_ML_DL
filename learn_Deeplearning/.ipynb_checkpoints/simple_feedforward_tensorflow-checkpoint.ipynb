{
 "cells": [
  {
   "cell_type": "markdown",
   "metadata": {},
   "source": [
    "### 학습 모델 직관적으로 구현해보기"
   ]
  },
  {
   "cell_type": "code",
   "execution_count": null,
   "metadata": {},
   "outputs": [],
   "source": [
    "import tensorflow as tf"
   ]
  },
  {
   "cell_type": "code",
   "execution_count": 69,
   "metadata": {},
   "outputs": [],
   "source": [
    "import numpy as np"
   ]
  },
  {
   "cell_type": "code",
   "execution_count": 70,
   "metadata": {},
   "outputs": [],
   "source": [
    "input_data = [[1, 5, 3, 7, 8, 10, 12],\n",
    "             [5, 8, 10, 3, 9, 7, 1]\n",
    "             ]\n",
    "label_data = [[0, 0, 0, 1, 0],\n",
    "              [1, 0, 0, 0, 0]\n",
    "             ]"
   ]
  },
  {
   "cell_type": "code",
   "execution_count": 83,
   "metadata": {},
   "outputs": [],
   "source": [
    "INPUT_SIZE = 7\n",
    "HIDDEN1_SIZE = 10\n",
    "HIDDEN2_SIZE = 8\n",
    "CLASSES = 5\n",
    "LEARNING_RATE=0.5"
   ]
  },
  {
   "cell_type": "code",
   "execution_count": 72,
   "metadata": {},
   "outputs": [],
   "source": [
    "x = tf.placeholder( tf.float32, shape=[None, INPUT_SIZE])\n",
    "y_ = tf.placeholder( tf.float32, shape=[None,CLASSES])"
   ]
  },
  {
   "cell_type": "code",
   "execution_count": 73,
   "metadata": {},
   "outputs": [],
   "source": [
    "tensor_map = {x: input_data, y_ : label_data}"
   ]
  },
  {
   "cell_type": "code",
   "execution_count": 74,
   "metadata": {},
   "outputs": [],
   "source": [
    "w_h1 = tf.Variable( tf.truncated_normal( shape=[INPUT_SIZE, HIDDEN1_SIZE]), dtype=tf.float32)\n",
    "b_h1 = tf.Variable( tf.zeros(shape = [HIDDEN1_SIZE]), dtype=tf.float32)\n",
    "hidden1 = tf.sigmoid(tf.matmul(x , w_h1) + b_h1)"
   ]
  },
  {
   "cell_type": "code",
   "execution_count": 75,
   "metadata": {},
   "outputs": [],
   "source": [
    "w_h2 = tf.Variable( tf.truncated_normal( shape=[HIDDEN1_SIZE, HIDDEN2_SIZE]), dtype=tf.float32)\n",
    "b_h2 = tf.Variable( tf.zeros(shape = [HIDDEN2_SIZE]), dtype=tf.float32)\n",
    "hidden2 = tf.sigmoid(tf.matmul(hidden1, w_h2) + b_h2)"
   ]
  },
  {
   "cell_type": "code",
   "execution_count": 76,
   "metadata": {},
   "outputs": [],
   "source": [
    "w_o = tf.Variable( tf.truncated_normal( shape=[HIDDEN2_SIZE, CLASSES]), dtype=tf.float32)\n",
    "b_o = tf.Variable( tf.zeros(shape = [CLASSES]), dtype=tf.float32)\n",
    "y = tf.sigmoid(tf.matmul(hidden2, w_o) + b_o)"
   ]
  },
  {
   "cell_type": "code",
   "execution_count": 86,
   "metadata": {},
   "outputs": [],
   "source": [
    "cost = tf.reduce_mean(-y_*tf.log(y)-(1-y_)*tf.log(1-y))\n",
    "#뒷부분은 y의 label이 0일때를 위해 넣어주는 코드,,?\n",
    "#크로스 엔트로피란??!\n",
    "\n",
    "train = tf.train.GradientDescentOptimizer(LEARNING_RATE).minimize(cost)"
   ]
  },
  {
   "cell_type": "code",
   "execution_count": 92,
   "metadata": {},
   "outputs": [
    {
     "name": "stdout",
     "output_type": "stream",
     "text": [
      "step:  0 0.77280784\n",
      "step:  1 0.68538964\n",
      "step:  2 0.60820377\n",
      "step:  3 0.5381066\n",
      "step:  4 0.47353396\n",
      "step:  5 0.39141577\n",
      "step:  6 0.3407937\n",
      "step:  7 0.3177407\n",
      "step:  8 0.29872683\n",
      "step:  9 0.2827986\n"
     ]
    }
   ],
   "source": [
    "sess = tf.Session()\n",
    "init = tf.global_variables_initializer()\n",
    "sess.run(init)\n",
    "for i in range(10):\n",
    "    _, loss = sess.run([train,cost], feed_dict = tensor_map)\n",
    "    print(\"step: \",i, loss)\n",
    "\n",
    "sess.close()"
   ]
  },
  {
   "cell_type": "code",
   "execution_count": null,
   "metadata": {},
   "outputs": [],
   "source": []
  },
  {
   "cell_type": "code",
   "execution_count": null,
   "metadata": {},
   "outputs": [],
   "source": []
  },
  {
   "cell_type": "code",
   "execution_count": null,
   "metadata": {},
   "outputs": [],
   "source": [
    "#writer = tf.summary.FileWriter(\"/tmp/graphs\", sess.graph)\n",
    "#writer.close()"
   ]
  },
  {
   "cell_type": "code",
   "execution_count": null,
   "metadata": {},
   "outputs": [],
   "source": []
  }
 ],
 "metadata": {
  "kernelspec": {
   "display_name": "Python 3",
   "language": "python",
   "name": "python3"
  },
  "language_info": {
   "codemirror_mode": {
    "name": "ipython",
    "version": 3
   },
   "file_extension": ".py",
   "mimetype": "text/x-python",
   "name": "python",
   "nbconvert_exporter": "python",
   "pygments_lexer": "ipython3",
   "version": "3.6.8"
  }
 },
 "nbformat": 4,
 "nbformat_minor": 4
}
