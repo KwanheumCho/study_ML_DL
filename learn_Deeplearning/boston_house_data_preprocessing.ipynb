{
 "cells": [
  {
   "cell_type": "code",
   "execution_count": 1,
   "metadata": {},
   "outputs": [],
   "source": [
    "import pandas as pd\n",
    "from sklearn import datasets"
   ]
  },
  {
   "cell_type": "code",
   "execution_count": 6,
   "metadata": {},
   "outputs": [],
   "source": [
    "boston = datasets.load_boston()\n",
    "boston.data[[1,2,3],[0,2,3]]= None #임의로 누락값을 만들어줌\n",
    "dfX = pd.DataFrame(boston.data, columns = boston.feature_names)\n",
    "dfy = pd.DataFrame(boston.target, columns = [\"MEDV\"])"
   ]
  },
  {
   "cell_type": "code",
   "execution_count": 7,
   "metadata": {},
   "outputs": [
    {
     "name": "stdout",
     "output_type": "stream",
     "text": [
      "        CRIM    ZN  INDUS  CHAS    NOX     RM   AGE     DIS  RAD    TAX  \\\n",
      "0    0.00632  18.0   2.31   0.0  0.538  6.575  65.2  4.0900  1.0  296.0   \n",
      "1        NaN   0.0   7.07   0.0  0.469  6.421  78.9  4.9671  2.0  242.0   \n",
      "2    0.02729   0.0    NaN   0.0  0.469  7.185  61.1  4.9671  2.0  242.0   \n",
      "3    0.03237   0.0   2.18   NaN  0.458  6.998  45.8  6.0622  3.0  222.0   \n",
      "4    0.06905   0.0   2.18   0.0  0.458  7.147  54.2  6.0622  3.0  222.0   \n",
      "..       ...   ...    ...   ...    ...    ...   ...     ...  ...    ...   \n",
      "501  0.06263   0.0  11.93   0.0  0.573  6.593  69.1  2.4786  1.0  273.0   \n",
      "502  0.04527   0.0  11.93   0.0  0.573  6.120  76.7  2.2875  1.0  273.0   \n",
      "503  0.06076   0.0  11.93   0.0  0.573  6.976  91.0  2.1675  1.0  273.0   \n",
      "504  0.10959   0.0  11.93   0.0  0.573  6.794  89.3  2.3889  1.0  273.0   \n",
      "505  0.04741   0.0  11.93   0.0  0.573  6.030  80.8  2.5050  1.0  273.0   \n",
      "\n",
      "     PTRATIO       B  LSTAT  MEDV  \n",
      "0       15.3  396.90   4.98  24.0  \n",
      "1       17.8  396.90   9.14  21.6  \n",
      "2       17.8  392.83   4.03  34.7  \n",
      "3       18.7  394.63   2.94  33.4  \n",
      "4       18.7  396.90   5.33  36.2  \n",
      "..       ...     ...    ...   ...  \n",
      "501     21.0  391.99   9.67  22.4  \n",
      "502     21.0  396.90   9.08  20.6  \n",
      "503     21.0  396.90   5.64  23.9  \n",
      "504     21.0  393.45   6.48  22.0  \n",
      "505     21.0  396.90   7.88  11.9  \n",
      "\n",
      "[506 rows x 14 columns]\n"
     ]
    }
   ],
   "source": [
    "df = pd.concat([dfX, dfy], axis = 1)\n",
    "print(df)"
   ]
  },
  {
   "cell_type": "code",
   "execution_count": 12,
   "metadata": {},
   "outputs": [],
   "source": [
    "#수치 항목들만 남겨놓고, 누락값을 median으로 채울거임\n",
    "feature_names = list(boston.feature_names)\n",
    "category_feature_names = ['CHAS', 'RAD']\n",
    "numeric_feature_names = list(set(feature_names)-set(category_feature_names))"
   ]
  },
  {
   "cell_type": "code",
   "execution_count": 15,
   "metadata": {},
   "outputs": [],
   "source": [
    "median = df[numeric_feature_names].median()\n",
    "dfN = df[numeric_feature_names].fillna(median)"
   ]
  },
  {
   "cell_type": "code",
   "execution_count": 48,
   "metadata": {},
   "outputs": [
    {
     "data": {
      "text/plain": [
       "['CHAS', 'RAD']"
      ]
     },
     "execution_count": 48,
     "metadata": {},
     "output_type": "execute_result"
    }
   ],
   "source": [
    "category_feature_names"
   ]
  },
  {
   "cell_type": "code",
   "execution_count": 58,
   "metadata": {},
   "outputs": [
    {
     "data": {
      "text/html": [
       "<div>\n",
       "<style scoped>\n",
       "    .dataframe tbody tr th:only-of-type {\n",
       "        vertical-align: middle;\n",
       "    }\n",
       "\n",
       "    .dataframe tbody tr th {\n",
       "        vertical-align: top;\n",
       "    }\n",
       "\n",
       "    .dataframe thead th {\n",
       "        text-align: right;\n",
       "    }\n",
       "</style>\n",
       "<table border=\"1\" class=\"dataframe\">\n",
       "  <thead>\n",
       "    <tr style=\"text-align: right;\">\n",
       "      <th></th>\n",
       "      <th>CHAS</th>\n",
       "      <th>RAD</th>\n",
       "    </tr>\n",
       "  </thead>\n",
       "  <tbody>\n",
       "    <tr>\n",
       "      <th>0</th>\n",
       "      <td>0.0</td>\n",
       "      <td>1.0</td>\n",
       "    </tr>\n",
       "    <tr>\n",
       "      <th>1</th>\n",
       "      <td>0.0</td>\n",
       "      <td>2.0</td>\n",
       "    </tr>\n",
       "    <tr>\n",
       "      <th>2</th>\n",
       "      <td>0.0</td>\n",
       "      <td>2.0</td>\n",
       "    </tr>\n",
       "    <tr>\n",
       "      <th>3</th>\n",
       "      <td>0.0</td>\n",
       "      <td>3.0</td>\n",
       "    </tr>\n",
       "    <tr>\n",
       "      <th>4</th>\n",
       "      <td>0.0</td>\n",
       "      <td>3.0</td>\n",
       "    </tr>\n",
       "    <tr>\n",
       "      <th>...</th>\n",
       "      <td>...</td>\n",
       "      <td>...</td>\n",
       "    </tr>\n",
       "    <tr>\n",
       "      <th>501</th>\n",
       "      <td>0.0</td>\n",
       "      <td>1.0</td>\n",
       "    </tr>\n",
       "    <tr>\n",
       "      <th>502</th>\n",
       "      <td>0.0</td>\n",
       "      <td>1.0</td>\n",
       "    </tr>\n",
       "    <tr>\n",
       "      <th>503</th>\n",
       "      <td>0.0</td>\n",
       "      <td>1.0</td>\n",
       "    </tr>\n",
       "    <tr>\n",
       "      <th>504</th>\n",
       "      <td>0.0</td>\n",
       "      <td>1.0</td>\n",
       "    </tr>\n",
       "    <tr>\n",
       "      <th>505</th>\n",
       "      <td>0.0</td>\n",
       "      <td>1.0</td>\n",
       "    </tr>\n",
       "  </tbody>\n",
       "</table>\n",
       "<p>506 rows × 2 columns</p>\n",
       "</div>"
      ],
      "text/plain": [
       "     CHAS  RAD\n",
       "0     0.0  1.0\n",
       "1     0.0  2.0\n",
       "2     0.0  2.0\n",
       "3     0.0  3.0\n",
       "4     0.0  3.0\n",
       "..    ...  ...\n",
       "501   0.0  1.0\n",
       "502   0.0  1.0\n",
       "503   0.0  1.0\n",
       "504   0.0  1.0\n",
       "505   0.0  1.0\n",
       "\n",
       "[506 rows x 2 columns]"
      ]
     },
     "execution_count": 58,
     "metadata": {},
     "output_type": "execute_result"
    }
   ],
   "source": [
    "#카테고리 항목들은, 다수 값으로 치환 할거임\n",
    "#코드 살짝 오류\n",
    "dfC = df[category_feature_names]\n",
    "\n",
    "for field in category_feature_names:\n",
    "    val = dfC[field].value_counts().index[0]\n",
    "    dfC = dfC.fillna(val)\n",
    "dfC"
   ]
  },
  {
   "cell_type": "code",
   "execution_count": 59,
   "metadata": {},
   "outputs": [
    {
     "name": "stdout",
     "output_type": "stream",
     "text": [
      "      RM       B  LSTAT  PTRATIO    TAX    NOX     DIS    ZN   AGE     CRIM  \\\n",
      "0  6.575  396.90   4.98     15.3  296.0  0.538  4.0900  18.0  65.2  0.00632   \n",
      "1  6.421  396.90   9.14     17.8  242.0  0.469  4.9671   0.0  78.9  0.25915   \n",
      "2  7.185  392.83   4.03     17.8  242.0  0.469  4.9671   0.0  61.1  0.02729   \n",
      "3  6.998  394.63   2.94     18.7  222.0  0.458  6.0622   0.0  45.8  0.03237   \n",
      "4  7.147  396.90   5.33     18.7  222.0  0.458  6.0622   0.0  54.2  0.06905   \n",
      "\n",
      "   INDUS  CHAS  RAD  \n",
      "0   2.31   0.0  1.0  \n",
      "1   7.07   0.0  2.0  \n",
      "2   9.69   0.0  2.0  \n",
      "3   2.18   0.0  3.0  \n",
      "4   2.18   0.0  3.0  \n"
     ]
    }
   ],
   "source": [
    "df = pd.concat([dfN,dfC], axis = 1)\n",
    "print(df.head())"
   ]
  },
  {
   "cell_type": "code",
   "execution_count": 107,
   "metadata": {},
   "outputs": [],
   "source": [
    "# 스케일링\n",
    "# numeric data만 min max 스케일링\n",
    "from sklearn.preprocessing import StandardScaler, MinMaxScaler\n",
    "boston = datasets.load_boston()\n",
    "dfX = pd.DataFrame(boston.data, columns = boston.feature_names)\n",
    "feature_names = list(boston.feature_names)\n",
    "category_feature_names= ['CHAS', 'RAD']\n",
    "numeric_feature_names = list(set(feature_names)-set(category_feature_names))"
   ]
  },
  {
   "cell_type": "code",
   "execution_count": 108,
   "metadata": {},
   "outputs": [],
   "source": [
    "scaler = MinMaxScaler()\n",
    "scaler.fit(dfX[numeric_feature_names])\n",
    "scaled_boston = scaler.transform(dfX[numeric_feature_names])"
   ]
  },
  {
   "cell_type": "code",
   "execution_count": 68,
   "metadata": {
    "scrolled": true
   },
   "outputs": [
    {
     "name": "stdout",
     "output_type": "stream",
     "text": [
      "         RM         B     LSTAT   PTRATIO       TAX       NOX       DIS    ZN  \\\n",
      "0  0.577505  1.000000  0.089680  0.287234  0.208015  0.314815  0.269203  0.18   \n",
      "1  0.547998  1.000000  0.204470  0.553191  0.104962  0.172840  0.348962  0.00   \n",
      "2  0.694386  0.989737  0.063466  0.553191  0.104962  0.172840  0.348962  0.00   \n",
      "3  0.658555  0.994276  0.033389  0.648936  0.066794  0.150206  0.448545  0.00   \n",
      "4  0.687105  1.000000  0.099338  0.648936  0.066794  0.150206  0.448545  0.00   \n",
      "\n",
      "        AGE      CRIM     INDUS  CHAS  RAD  MEDV  \n",
      "0  0.641607  0.000000  0.067815   0.0  1.0  24.0  \n",
      "1  0.782698  0.000236  0.242302   0.0  2.0  21.6  \n",
      "2  0.599382  0.000236  0.242302   0.0  2.0  34.7  \n",
      "3  0.441813  0.000293  0.063050   0.0  3.0  33.4  \n",
      "4  0.528321  0.000705  0.063050   0.0  3.0  36.2  \n"
     ]
    }
   ],
   "source": [
    "scaled_df = pd.DataFrame(scaled_boston, columns=numeric_feature_names)\n",
    "dfX = pd.concat([scaled_df, dfX[category_feature_names]],axis=1)\n",
    "dfy = pd.DataFrame(boston.target, columns =[\"MEDV\"])\n",
    "df = pd.concat([dfX,dfy], axis=1)\n",
    "print(df.head())"
   ]
  },
  {
   "cell_type": "code",
   "execution_count": null,
   "metadata": {},
   "outputs": [],
   "source": []
  },
  {
   "cell_type": "code",
   "execution_count": 109,
   "metadata": {},
   "outputs": [
    {
     "name": "stdout",
     "output_type": "stream",
     "text": [
      "(506, 2)\n",
      "(506, 9)\n",
      "         RM         B     LSTAT   PTRATIO       TAX       NOX       DIS    ZN  \\\n",
      "0  0.577505  1.000000  0.089680  0.287234  0.208015  0.314815  0.269203  0.18   \n",
      "1  0.547998  1.000000  0.204470  0.553191  0.104962  0.172840  0.348962  0.00   \n",
      "2  0.694386  0.989737  0.063466  0.553191  0.104962  0.172840  0.348962  0.00   \n",
      "3  0.658555  0.994276  0.033389  0.648936  0.066794  0.150206  0.448545  0.00   \n",
      "4  0.687105  1.000000  0.099338  0.648936  0.066794  0.150206  0.448545  0.00   \n",
      "\n",
      "        AGE      CRIM  ...  (0,)  (1,)  (2,)  (3,)  (4,)  (5,)  (6,)  (7,)  \\\n",
      "0  0.641607  0.000000  ...   1.0   0.0   0.0   0.0   0.0   0.0   0.0   0.0   \n",
      "1  0.782698  0.000236  ...   0.0   1.0   0.0   0.0   0.0   0.0   0.0   0.0   \n",
      "2  0.599382  0.000236  ...   0.0   1.0   0.0   0.0   0.0   0.0   0.0   0.0   \n",
      "3  0.441813  0.000293  ...   0.0   0.0   1.0   0.0   0.0   0.0   0.0   0.0   \n",
      "4  0.528321  0.000705  ...   0.0   0.0   1.0   0.0   0.0   0.0   0.0   0.0   \n",
      "\n",
      "   (8,)  MEDV  \n",
      "0   0.0  24.0  \n",
      "1   0.0  21.6  \n",
      "2   0.0  34.7  \n",
      "3   0.0  33.4  \n",
      "4   0.0  36.2  \n",
      "\n",
      "[5 rows x 23 columns]\n"
     ]
    }
   ],
   "source": [
    "# 카테고리 데이터 -> 수치 데이터 변환\n",
    "#one hot encoder에서 active feature가 없다는데..? => categories_로 바뀐거같음\n",
    "import sklearn.preprocessing as prp\n",
    "\n",
    "label_encoder = prp.LabelEncoder()\n",
    "onehot_encoder = prp.OneHotEncoder()\n",
    "\n",
    "dfC = pd.DataFrame()\n",
    "for field in category_feature_names:\n",
    "    #print(field)\n",
    "    encoded_data = label_encoder.fit_transform(dfX[field])\n",
    "    onehot_data = onehot_encoder.fit_transform(encoded_data.reshape(-1,1))\n",
    "    print(onehot_data.shape)\n",
    "    dfC = pd.concat([dfC, pd.DataFrame(onehot_data.toarray(), columns=onehot_encoder.categories_)], axis=1)\n",
    "dfX = pd.concat([scaled_df, dfC], axis=1)\n",
    "dfy = pd.DataFrame(boston.target, columns =[\"MEDV\"])\n",
    "df = pd.concat([dfX,dfy], axis=1)\n",
    "print(df.head())\n"
   ]
  }
 ],
 "metadata": {
  "kernelspec": {
   "display_name": "Python 3",
   "language": "python",
   "name": "python3"
  },
  "language_info": {
   "codemirror_mode": {
    "name": "ipython",
    "version": 3
   },
   "file_extension": ".py",
   "mimetype": "text/x-python",
   "name": "python",
   "nbconvert_exporter": "python",
   "pygments_lexer": "ipython3",
   "version": "3.8.3"
  }
 },
 "nbformat": 4,
 "nbformat_minor": 4
}
