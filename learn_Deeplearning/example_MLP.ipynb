{
 "cells": [
  {
   "cell_type": "code",
   "execution_count": 29,
   "metadata": {},
   "outputs": [],
   "source": [
    "from sklearn.neural_network import MLPClassifier\n",
    "import sklearn.datasets as datasets\n",
    "from sklearn.model_selection import train_test_split\n",
    "import numpy as np\n",
    "from sklearn.metrics import accuracy_score\n",
    "from sklearn.preprocessing import StandardScaler"
   ]
  },
  {
   "cell_type": "code",
   "execution_count": 30,
   "metadata": {},
   "outputs": [],
   "source": [
    "iris_dataset = datasets.load_iris()\n",
    "x = iris_dataset.data\n",
    "y = iris_dataset.target"
   ]
  },
  {
   "cell_type": "code",
   "execution_count": 31,
   "metadata": {},
   "outputs": [],
   "source": [
    "x_train, x_test, y_train, y_test = train_test_split(x, y, test_size=0.2, random_state = 1)\n",
    "\n",
    "scaler = StandardScaler()\n",
    "scaler.fit(x_train)\n",
    "x_train = scaler.transform(x_train)\n",
    "x_test = scaler.transform(x_test)\n",
    "classifier = MLPClassifier( hidden_layer_sizes=(5,2) ,  random_state=3)"
   ]
  },
  {
   "cell_type": "code",
   "execution_count": 32,
   "metadata": {},
   "outputs": [
    {
     "name": "stdout",
     "output_type": "stream",
     "text": [
      "[0 1 2 0 2 2 2 0 0 2 1 0 2 2 2 0 1 2 0 0 1 1 2 0 2 1 0 0 2 2]\n",
      "[0 1 1 0 2 1 2 0 0 2 1 0 2 1 1 0 1 1 0 0 1 1 1 0 2 1 0 0 1 2]\n"
     ]
    },
    {
     "name": "stderr",
     "output_type": "stream",
     "text": [
      "C:\\ProgramData\\Anaconda3\\lib\\site-packages\\sklearn\\neural_network\\_multilayer_perceptron.py:582: ConvergenceWarning: Stochastic Optimizer: Maximum iterations (200) reached and the optimization hasn't converged yet.\n",
      "  warnings.warn(\n"
     ]
    }
   ],
   "source": [
    "classifier.fit(x_train, y_train)\n",
    "predicted = classifier.predict(x_test)\n",
    "print(predicted)\n",
    "print(y_test)"
   ]
  },
  {
   "cell_type": "code",
   "execution_count": 33,
   "metadata": {},
   "outputs": [
    {
     "name": "stdout",
     "output_type": "stream",
     "text": [
      "0.7666666666666667\n"
     ]
    }
   ],
   "source": [
    "print(accuracy_score(y_test, predicted))"
   ]
  },
  {
   "cell_type": "code",
   "execution_count": null,
   "metadata": {},
   "outputs": [],
   "source": []
  },
  {
   "cell_type": "code",
   "execution_count": null,
   "metadata": {},
   "outputs": [],
   "source": []
  },
  {
   "cell_type": "code",
   "execution_count": 35,
   "metadata": {},
   "outputs": [],
   "source": [
    "from sklearn.neural_network import MLPRegressor\n",
    "import sklearn.datasets as datasets\n",
    "from sklearn.model_selection import train_test_split\n",
    "import numpy as np\n",
    "from sklearn.metrics import mean_squared_error"
   ]
  },
  {
   "cell_type": "code",
   "execution_count": 36,
   "metadata": {},
   "outputs": [],
   "source": [
    "boston_dataset = datasets.load_boston()\n",
    "x = boston_dataset.data\n",
    "y = boston_dataset.target"
   ]
  },
  {
   "cell_type": "code",
   "execution_count": 37,
   "metadata": {},
   "outputs": [],
   "source": [
    "x_train, x_test, y_train, y_test = train_test_split(x, y, test_size=0.2, random_state = 0)"
   ]
  },
  {
   "cell_type": "code",
   "execution_count": 38,
   "metadata": {},
   "outputs": [],
   "source": [
    "classifier = MLPRegressor( hidden_layer_sizes=(5,2), max_iter=10000, random_state = 1)"
   ]
  },
  {
   "cell_type": "code",
   "execution_count": 39,
   "metadata": {},
   "outputs": [],
   "source": [
    "classifier.fit(x_train, y_train)\n",
    "predicted = classifier.predict(x_test)"
   ]
  },
  {
   "cell_type": "code",
   "execution_count": 40,
   "metadata": {},
   "outputs": [],
   "source": [
    "mse = mean_squared_error(y_test, predicted)\n",
    "rmse = np.sqrt(mse)"
   ]
  },
  {
   "cell_type": "code",
   "execution_count": 41,
   "metadata": {},
   "outputs": [
    {
     "name": "stdout",
     "output_type": "stream",
     "text": [
      "22.6 19.412681059721855\n",
      "50.0 19.787998078060454\n",
      "23.0 25.10792848409012\n",
      "8.3 18.316942088166343\n",
      "21.2 24.391597473992135\n",
      "19.9 24.534880483954073\n",
      "20.6 16.65066322057211\n",
      "18.7 23.54080484566971\n",
      "16.1 20.73404632291101\n",
      "18.6 8.257111763169258\n",
      "8.8 -6.180170562762481\n",
      "17.2 -0.15084530256321516\n",
      "14.9 16.41016979280764\n",
      "10.5 18.168028206344893\n",
      "50.0 27.59766551699117\n",
      "29.0 31.583147452191923\n",
      "23.0 18.504500611730844\n",
      "33.3 34.296182669752966\n",
      "29.4 23.469165756120628\n",
      "21.0 23.453251008250596\n",
      "23.8 24.324932246981273\n",
      "19.1 24.640601995555656\n",
      "20.4 26.00875989190217\n",
      "29.1 27.438178438158108\n",
      "19.3 22.154390962827144\n",
      "23.1 3.484384589273013\n",
      "19.6 25.315341357158438\n",
      "19.4 19.809321581570327\n",
      "38.7 25.758368142480112\n",
      "18.7 27.130712656874287\n",
      "14.6 19.775776520878825\n",
      "20.0 20.23067748978631\n",
      "20.5 28.353578476700026\n",
      "20.1 28.259915029141666\n",
      "23.6 25.610875455586566\n",
      "16.8 18.350279195111916\n",
      "5.6 18.45289630285308\n",
      "50.0 17.735259184970754\n",
      "14.5 -0.06517062620338318\n",
      "13.3 15.155379755745807\n",
      "23.9 22.14490042784801\n",
      "20.0 21.679674016078305\n",
      "19.8 20.63062189689915\n",
      "13.8 18.084831656844734\n",
      "16.5 25.43838200739925\n",
      "21.6 24.632214116565624\n",
      "20.3 23.304168562986266\n",
      "17.0 23.432021473412583\n",
      "11.8 24.16883928715825\n",
      "27.5 26.663296196424817\n",
      "15.6 7.028606225207796\n",
      "23.1 21.669003108626846\n",
      "24.3 24.11315023392533\n",
      "42.8 26.63658842519695\n",
      "15.6 19.3023170787085\n",
      "21.7 24.227837571247772\n",
      "17.1 26.94801647679147\n",
      "17.2 24.07802472194428\n",
      "15.0 -3.741654470947462\n",
      "21.7 24.57056595493438\n",
      "18.6 32.46211560834444\n",
      "21.0 23.91854422785497\n",
      "33.1 27.505157370728178\n",
      "31.5 22.837959796378655\n",
      "20.1 16.116817993321156\n",
      "29.8 30.137690829489937\n",
      "15.2 19.22785447149522\n",
      "15.0 26.570554929299064\n",
      "27.5 6.66760920833299\n",
      "22.6 21.938103096336533\n",
      "20.0 25.393162853523798\n",
      "21.4 23.339525582147182\n",
      "23.5 33.47067032879861\n",
      "31.2 31.32897538507215\n",
      "23.7 19.692195008976356\n",
      "7.4 17.116299941598836\n",
      "48.3 25.313588880865076\n",
      "24.4 23.39183232328854\n",
      "22.6 24.294450805803297\n",
      "18.3 25.700011082414516\n",
      "23.3 27.35806501664401\n",
      "17.1 26.871662675863863\n",
      "27.9 16.949962056514902\n",
      "44.8 25.802423677411305\n",
      "50.0 25.869552622391094\n",
      "23.0 23.39218434751813\n",
      "21.4 24.31376273293634\n",
      "10.2 -1.6602408340464354\n",
      "23.3 25.9768030161469\n",
      "23.2 18.745519307102434\n",
      "18.9 35.442622602154096\n",
      "13.4 1.9356811734270565\n",
      "21.9 33.68334290228678\n",
      "24.8 33.92737637195123\n",
      "11.9 24.84553943563743\n",
      "24.3 26.788097386078466\n",
      "13.8 18.334720403059745\n",
      "24.7 34.88935889485011\n",
      "14.1 -0.15084530256321516\n",
      "18.7 27.626110092753215\n",
      "28.1 22.232900234500203\n",
      "19.8 27.130273197944312\n"
     ]
    }
   ],
   "source": [
    "for i in range(len(y_test)):\n",
    "    print(y_test[i] , predicted[i])"
   ]
  },
  {
   "cell_type": "code",
   "execution_count": 42,
   "metadata": {},
   "outputs": [
    {
     "name": "stdout",
     "output_type": "stream",
     "text": [
      "RMSE:  10.02984100053502\n"
     ]
    }
   ],
   "source": [
    "print(\"RMSE: \", rmse)"
   ]
  }
 ],
 "metadata": {
  "kernelspec": {
   "display_name": "Python 3",
   "language": "python",
   "name": "python3"
  },
  "language_info": {
   "codemirror_mode": {
    "name": "ipython",
    "version": 3
   },
   "file_extension": ".py",
   "mimetype": "text/x-python",
   "name": "python",
   "nbconvert_exporter": "python",
   "pygments_lexer": "ipython3",
   "version": "3.8.3"
  }
 },
 "nbformat": 4,
 "nbformat_minor": 4
}
