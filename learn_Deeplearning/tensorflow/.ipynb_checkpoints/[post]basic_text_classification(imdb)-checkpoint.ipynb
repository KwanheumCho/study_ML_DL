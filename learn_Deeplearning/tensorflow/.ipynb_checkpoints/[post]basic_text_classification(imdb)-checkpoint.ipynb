{
 "cells": [
  {
   "cell_type": "code",
   "execution_count": null,
   "metadata": {},
   "outputs": [],
   "source": [
    "Tensorflow 2.X 버전으로 업데이트 전 1.X튜토리얼 내용"
   ]
  },
  {
   "cell_type": "code",
   "execution_count": null,
   "metadata": {},
   "outputs": [],
   "source": [
    "import tensorflow.compat.v1 as tf\n",
    "\n",
    "from tensorflow import keras\n",
    "\n",
    "import numpy as np\n",
    "\n",
    "print(tf.__version__)"
   ]
  },
  {
   "cell_type": "code",
   "execution_count": 30,
   "metadata": {},
   "outputs": [],
   "source": [
    "imdb = keras.datasets.imdb\n",
    "\n",
    "(train_data, train_labels), (test_data, test_labels) = imdb.load_data(num_words=10000)"
   ]
  },
  {
   "cell_type": "code",
   "execution_count": 31,
   "metadata": {},
   "outputs": [
    {
     "name": "stdout",
     "output_type": "stream",
     "text": [
      "[1, 14, 22, 16, 43, 530, 973, 1622, 1385, 65, 458, 4468, 66, 3941, 4, 173, 36, 256, 5, 25, 100, 43, 838, 112, 50, 670, 2, 9, 35, 480, 284, 5, 150, 4, 172, 112, 167, 2, 336, 385, 39, 4, 172, 4536, 1111, 17, 546, 38, 13, 447, 4, 192, 50, 16, 6, 147, 2025, 19, 14, 22, 4, 1920, 4613, 469, 4, 22, 71, 87, 12, 16, 43, 530, 38, 76, 15, 13, 1247, 4, 22, 17, 515, 17, 12, 16, 626, 18, 2, 5, 62, 386, 12, 8, 316, 8, 106, 5, 4, 2223, 5244, 16, 480, 66, 3785, 33, 4, 130, 12, 16, 38, 619, 5, 25, 124, 51, 36, 135, 48, 25, 1415, 33, 6, 22, 12, 215, 28, 77, 52, 5, 14, 407, 16, 82, 2, 8, 4, 107, 117, 5952, 15, 256, 4, 2, 7, 3766, 5, 723, 36, 71, 43, 530, 476, 26, 400, 317, 46, 7, 4, 2, 1029, 13, 104, 88, 4, 381, 15, 297, 98, 32, 2071, 56, 26, 141, 6, 194, 7486, 18, 4, 226, 22, 21, 134, 476, 26, 480, 5, 144, 30, 5535, 18, 51, 36, 28, 224, 92, 25, 104, 4, 226, 65, 16, 38, 1334, 88, 12, 16, 283, 5, 16, 4472, 113, 103, 32, 15, 16, 5345, 19, 178, 32]\n"
     ]
    }
   ],
   "source": [
    "print(train_data[0])"
   ]
  },
  {
   "cell_type": "code",
   "execution_count": 32,
   "metadata": {},
   "outputs": [
    {
     "data": {
      "text/plain": [
       "(218, 189)"
      ]
     },
     "execution_count": 32,
     "metadata": {},
     "output_type": "execute_result"
    }
   ],
   "source": [
    "len(train_data[0]), len(train_data[1])"
   ]
  },
  {
   "cell_type": "code",
   "execution_count": 33,
   "metadata": {},
   "outputs": [],
   "source": [
    "train_data = keras.preprocessing.sequence.pad_sequences(train_data,\n",
    "                                                        value=0,\n",
    "                                                        padding='post',\n",
    "                                                        maxlen=256)\n",
    "\n",
    "test_data = keras.preprocessing.sequence.pad_sequences(test_data,\n",
    "                                                       value=0,\n",
    "                                                       padding='post',\n",
    "                                                       maxlen=256)"
   ]
  },
  {
   "cell_type": "code",
   "execution_count": 34,
   "metadata": {},
   "outputs": [
    {
     "data": {
      "text/plain": [
       "(256, 256)"
      ]
     },
     "execution_count": 34,
     "metadata": {},
     "output_type": "execute_result"
    }
   ],
   "source": [
    "len(train_data[0]), len(train_data[1])"
   ]
  },
  {
   "cell_type": "code",
   "execution_count": 35,
   "metadata": {},
   "outputs": [
    {
     "name": "stdout",
     "output_type": "stream",
     "text": [
      "[   1   14   22   16   43  530  973 1622 1385   65  458 4468   66 3941\n",
      "    4  173   36  256    5   25  100   43  838  112   50  670    2    9\n",
      "   35  480  284    5  150    4  172  112  167    2  336  385   39    4\n",
      "  172 4536 1111   17  546   38   13  447    4  192   50   16    6  147\n",
      " 2025   19   14   22    4 1920 4613  469    4   22   71   87   12   16\n",
      "   43  530   38   76   15   13 1247    4   22   17  515   17   12   16\n",
      "  626   18    2    5   62  386   12    8  316    8  106    5    4 2223\n",
      " 5244   16  480   66 3785   33    4  130   12   16   38  619    5   25\n",
      "  124   51   36  135   48   25 1415   33    6   22   12  215   28   77\n",
      "   52    5   14  407   16   82    2    8    4  107  117 5952   15  256\n",
      "    4    2    7 3766    5  723   36   71   43  530  476   26  400  317\n",
      "   46    7    4    2 1029   13  104   88    4  381   15  297   98   32\n",
      " 2071   56   26  141    6  194 7486   18    4  226   22   21  134  476\n",
      "   26  480    5  144   30 5535   18   51   36   28  224   92   25  104\n",
      "    4  226   65   16   38 1334   88   12   16  283    5   16 4472  113\n",
      "  103   32   15   16 5345   19  178   32    0    0    0    0    0    0\n",
      "    0    0    0    0    0    0    0    0    0    0    0    0    0    0\n",
      "    0    0    0    0    0    0    0    0    0    0    0    0    0    0\n",
      "    0    0    0    0]\n"
     ]
    }
   ],
   "source": [
    "print(train_data[0])"
   ]
  },
  {
   "cell_type": "code",
   "execution_count": 36,
   "metadata": {
    "scrolled": true
   },
   "outputs": [
    {
     "name": "stdout",
     "output_type": "stream",
     "text": [
      "Model: \"sequential_5\"\n",
      "_________________________________________________________________\n",
      "Layer (type)                 Output Shape              Param #   \n",
      "=================================================================\n",
      "embedding_5 (Embedding)      (None, None, 16)          160000    \n",
      "_________________________________________________________________\n",
      "global_average_pooling1d_2 ( (None, 16)                0         \n",
      "_________________________________________________________________\n",
      "dense_4 (Dense)              (None, 16)                272       \n",
      "_________________________________________________________________\n",
      "dense_5 (Dense)              (None, 1)                 17        \n",
      "=================================================================\n",
      "Total params: 160,289\n",
      "Trainable params: 160,289\n",
      "Non-trainable params: 0\n",
      "_________________________________________________________________\n"
     ]
    }
   ],
   "source": [
    "vocab_size = 10000\n",
    "\n",
    "model = keras.Sequential()\n",
    "model.add(keras.layers.Embedding(vocab_size, 16))\n",
    "model.add(keras.layers.GlobalAveragePooling1D())\n",
    "model.add(keras.layers.Dense(16, activation=tf.nn.relu))\n",
    "model.add(keras.layers.Dense(1, activation=tf.nn.sigmoid))\n",
    "\n",
    "model.summary()"
   ]
  },
  {
   "cell_type": "code",
   "execution_count": 37,
   "metadata": {},
   "outputs": [],
   "source": [
    "model.compile(optimizer='adam',\n",
    "              loss='binary_crossentropy',\n",
    "              metrics=['acc'])"
   ]
  },
  {
   "cell_type": "code",
   "execution_count": 38,
   "metadata": {},
   "outputs": [],
   "source": [
    "x_val = train_data[:10000]\n",
    "partial_x_train = train_data[10000:]\n",
    "\n",
    "y_val = train_labels[:10000]\n",
    "partial_y_train = train_labels[10000:]"
   ]
  },
  {
   "cell_type": "code",
   "execution_count": 39,
   "metadata": {
    "scrolled": true
   },
   "outputs": [
    {
     "name": "stdout",
     "output_type": "stream",
     "text": [
      "Train on 15000 samples, validate on 10000 samples\n",
      "Epoch 1/40\n",
      "15000/15000 [==============================] - 2s 161us/sample - loss: 0.6915 - acc: 0.6176 - val_loss: 0.6895 - val_acc: 0.6832\n",
      "Epoch 2/40\n",
      "15000/15000 [==============================] - 2s 150us/sample - loss: 0.6859 - acc: 0.7246 - val_loss: 0.6819 - val_acc: 0.7418\n",
      "Epoch 3/40\n",
      "15000/15000 [==============================] - 2s 144us/sample - loss: 0.6739 - acc: 0.7561 - val_loss: 0.6668 - val_acc: 0.7475\n",
      "Epoch 4/40\n",
      "15000/15000 [==============================] - 2s 132us/sample - loss: 0.6532 - acc: 0.7633 - val_loss: 0.6432 - val_acc: 0.7496\n",
      "Epoch 5/40\n",
      "15000/15000 [==============================] - 2s 130us/sample - loss: 0.6229 - acc: 0.7881 - val_loss: 0.6114 - val_acc: 0.7767\n",
      "Epoch 6/40\n",
      "15000/15000 [==============================] - 2s 140us/sample - loss: 0.5845 - acc: 0.8065 - val_loss: 0.5741 - val_acc: 0.7988\n",
      "Epoch 7/40\n",
      "15000/15000 [==============================] - 2s 119us/sample - loss: 0.5410 - acc: 0.8231 - val_loss: 0.5330 - val_acc: 0.8153\n",
      "Epoch 8/40\n",
      "15000/15000 [==============================] - 2s 147us/sample - loss: 0.4966 - acc: 0.8422 - val_loss: 0.4939 - val_acc: 0.8289\n",
      "Epoch 9/40\n",
      "15000/15000 [==============================] - 2s 138us/sample - loss: 0.4536 - acc: 0.8546 - val_loss: 0.4566 - val_acc: 0.8393\n",
      "Epoch 10/40\n",
      "15000/15000 [==============================] - 2s 123us/sample - loss: 0.4140 - acc: 0.8688 - val_loss: 0.4247 - val_acc: 0.8476\n",
      "Epoch 11/40\n",
      "15000/15000 [==============================] - 2s 141us/sample - loss: 0.3798 - acc: 0.8772 - val_loss: 0.3978 - val_acc: 0.8557\n",
      "Epoch 12/40\n",
      "15000/15000 [==============================] - 2s 119us/sample - loss: 0.3505 - acc: 0.8859 - val_loss: 0.3768 - val_acc: 0.8580\n",
      "Epoch 13/40\n",
      "15000/15000 [==============================] - 2s 148us/sample - loss: 0.3266 - acc: 0.8917 - val_loss: 0.3581 - val_acc: 0.8651\n",
      "Epoch 14/40\n",
      "15000/15000 [==============================] - 2s 155us/sample - loss: 0.3051 - acc: 0.8973 - val_loss: 0.3444 - val_acc: 0.8696\n",
      "Epoch 15/40\n",
      "15000/15000 [==============================] - 2s 153us/sample - loss: 0.2873 - acc: 0.9014 - val_loss: 0.3331 - val_acc: 0.8711\n",
      "Epoch 16/40\n",
      "15000/15000 [==============================] - 2s 138us/sample - loss: 0.2713 - acc: 0.9066 - val_loss: 0.3236 - val_acc: 0.8738\n",
      "Epoch 17/40\n",
      "15000/15000 [==============================] - 2s 141us/sample - loss: 0.2567 - acc: 0.9121 - val_loss: 0.3157 - val_acc: 0.8757\n",
      "Epoch 18/40\n",
      "15000/15000 [==============================] - 2s 140us/sample - loss: 0.2438 - acc: 0.9163 - val_loss: 0.3088 - val_acc: 0.8801\n",
      "Epoch 19/40\n",
      "15000/15000 [==============================] - 2s 141us/sample - loss: 0.2321 - acc: 0.9198 - val_loss: 0.3031 - val_acc: 0.8802\n",
      "Epoch 20/40\n",
      "15000/15000 [==============================] - 2s 158us/sample - loss: 0.2217 - acc: 0.9233 - val_loss: 0.2991 - val_acc: 0.8806\n",
      "Epoch 21/40\n",
      "15000/15000 [==============================] - 2s 146us/sample - loss: 0.2112 - acc: 0.9284 - val_loss: 0.2955 - val_acc: 0.8812\n",
      "Epoch 22/40\n",
      "15000/15000 [==============================] - 2s 137us/sample - loss: 0.2023 - acc: 0.9302 - val_loss: 0.2924 - val_acc: 0.8837\n",
      "Epoch 23/40\n",
      "15000/15000 [==============================] - 2s 150us/sample - loss: 0.1934 - acc: 0.9342 - val_loss: 0.2907 - val_acc: 0.8834\n",
      "Epoch 24/40\n",
      "15000/15000 [==============================] - 2s 147us/sample - loss: 0.1856 - acc: 0.9383 - val_loss: 0.2884 - val_acc: 0.8833\n",
      "Epoch 25/40\n",
      "15000/15000 [==============================] - 2s 130us/sample - loss: 0.1777 - acc: 0.9423 - val_loss: 0.2866 - val_acc: 0.8851\n",
      "Epoch 26/40\n",
      "15000/15000 [==============================] - 2s 141us/sample - loss: 0.1706 - acc: 0.9453 - val_loss: 0.2866 - val_acc: 0.8831\n",
      "Epoch 27/40\n",
      "15000/15000 [==============================] - 2s 135us/sample - loss: 0.1640 - acc: 0.9476 - val_loss: 0.2858 - val_acc: 0.8847\n",
      "Epoch 28/40\n",
      "15000/15000 [==============================] - 2s 163us/sample - loss: 0.1575 - acc: 0.9514 - val_loss: 0.2855 - val_acc: 0.8853\n",
      "Epoch 29/40\n",
      "15000/15000 [==============================] - 2s 141us/sample - loss: 0.1520 - acc: 0.9531 - val_loss: 0.2869 - val_acc: 0.8838\n",
      "Epoch 30/40\n",
      "15000/15000 [==============================] - 2s 137us/sample - loss: 0.1462 - acc: 0.9552 - val_loss: 0.2858 - val_acc: 0.8855\n",
      "Epoch 31/40\n",
      "15000/15000 [==============================] - 2s 137us/sample - loss: 0.1403 - acc: 0.9578 - val_loss: 0.2865 - val_acc: 0.8862\n",
      "Epoch 32/40\n",
      "15000/15000 [==============================] - 2s 127us/sample - loss: 0.1350 - acc: 0.9601 - val_loss: 0.2876 - val_acc: 0.8864\n",
      "Epoch 33/40\n",
      "15000/15000 [==============================] - 2s 145us/sample - loss: 0.1298 - acc: 0.9619 - val_loss: 0.2894 - val_acc: 0.8858\n",
      "Epoch 34/40\n",
      "15000/15000 [==============================] - 2s 139us/sample - loss: 0.1253 - acc: 0.9640 - val_loss: 0.2908 - val_acc: 0.8857\n",
      "Epoch 35/40\n",
      "15000/15000 [==============================] - 2s 145us/sample - loss: 0.1211 - acc: 0.9648 - val_loss: 0.2930 - val_acc: 0.8851\n",
      "Epoch 36/40\n",
      "15000/15000 [==============================] - 2s 157us/sample - loss: 0.1164 - acc: 0.9673 - val_loss: 0.2946 - val_acc: 0.8856\n",
      "Epoch 37/40\n",
      "15000/15000 [==============================] - 2s 132us/sample - loss: 0.1120 - acc: 0.9684 - val_loss: 0.2966 - val_acc: 0.8853\n",
      "Epoch 38/40\n",
      "15000/15000 [==============================] - 2s 133us/sample - loss: 0.1080 - acc: 0.9700 - val_loss: 0.2997 - val_acc: 0.8831\n",
      "Epoch 39/40\n",
      "15000/15000 [==============================] - 2s 149us/sample - loss: 0.1047 - acc: 0.9713 - val_loss: 0.3025 - val_acc: 0.8824\n",
      "Epoch 40/40\n",
      "15000/15000 [==============================] - 2s 134us/sample - loss: 0.1006 - acc: 0.9730 - val_loss: 0.3046 - val_acc: 0.8836\n"
     ]
    }
   ],
   "source": [
    "history = model.fit(partial_x_train,\n",
    "                    partial_y_train,\n",
    "                    epochs=40,\n",
    "                    batch_size=512,\n",
    "                    validation_data=(x_val, y_val),\n",
    "                    verbose=1)"
   ]
  },
  {
   "cell_type": "code",
   "execution_count": 40,
   "metadata": {},
   "outputs": [
    {
     "name": "stdout",
     "output_type": "stream",
     "text": [
      "25000/25000 - 2s - loss: 0.3246 - acc: 0.8733\n",
      "[0.32461003731250765, 0.87332]\n"
     ]
    }
   ],
   "source": [
    "results = model.evaluate(test_data,  test_labels, verbose=2)\n",
    "\n",
    "print(results)"
   ]
  },
  {
   "cell_type": "code",
   "execution_count": null,
   "metadata": {},
   "outputs": [],
   "source": []
  },
  {
   "cell_type": "code",
   "execution_count": null,
   "metadata": {},
   "outputs": [],
   "source": []
  }
 ],
 "metadata": {
  "kernelspec": {
   "display_name": "Python 3",
   "language": "python",
   "name": "python3"
  },
  "language_info": {
   "codemirror_mode": {
    "name": "ipython",
    "version": 3
   },
   "file_extension": ".py",
   "mimetype": "text/x-python",
   "name": "python",
   "nbconvert_exporter": "python",
   "pygments_lexer": "ipython3",
   "version": "3.6.8"
  }
 },
 "nbformat": 4,
 "nbformat_minor": 4
}
