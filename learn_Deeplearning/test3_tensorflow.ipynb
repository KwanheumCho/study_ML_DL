{
 "cells": [
  {
   "cell_type": "code",
   "execution_count": 1,
   "metadata": {
    "scrolled": true
   },
   "outputs": [
    {
     "name": "stderr",
     "output_type": "stream",
     "text": [
      "C:\\ProgramData\\Anaconda3\\lib\\site-packages\\tensorflow\\python\\framework\\dtypes.py:516: FutureWarning: Passing (type, 1) or '1type' as a synonym of type is deprecated; in a future version of numpy, it will be understood as (type, (1,)) / '(1,)type'.\n",
      "  _np_qint8 = np.dtype([(\"qint8\", np.int8, 1)])\n",
      "C:\\ProgramData\\Anaconda3\\lib\\site-packages\\tensorflow\\python\\framework\\dtypes.py:517: FutureWarning: Passing (type, 1) or '1type' as a synonym of type is deprecated; in a future version of numpy, it will be understood as (type, (1,)) / '(1,)type'.\n",
      "  _np_quint8 = np.dtype([(\"quint8\", np.uint8, 1)])\n",
      "C:\\ProgramData\\Anaconda3\\lib\\site-packages\\tensorflow\\python\\framework\\dtypes.py:518: FutureWarning: Passing (type, 1) or '1type' as a synonym of type is deprecated; in a future version of numpy, it will be understood as (type, (1,)) / '(1,)type'.\n",
      "  _np_qint16 = np.dtype([(\"qint16\", np.int16, 1)])\n",
      "C:\\ProgramData\\Anaconda3\\lib\\site-packages\\tensorflow\\python\\framework\\dtypes.py:519: FutureWarning: Passing (type, 1) or '1type' as a synonym of type is deprecated; in a future version of numpy, it will be understood as (type, (1,)) / '(1,)type'.\n",
      "  _np_quint16 = np.dtype([(\"quint16\", np.uint16, 1)])\n",
      "C:\\ProgramData\\Anaconda3\\lib\\site-packages\\tensorflow\\python\\framework\\dtypes.py:520: FutureWarning: Passing (type, 1) or '1type' as a synonym of type is deprecated; in a future version of numpy, it will be understood as (type, (1,)) / '(1,)type'.\n",
      "  _np_qint32 = np.dtype([(\"qint32\", np.int32, 1)])\n",
      "C:\\ProgramData\\Anaconda3\\lib\\site-packages\\tensorflow\\python\\framework\\dtypes.py:525: FutureWarning: Passing (type, 1) or '1type' as a synonym of type is deprecated; in a future version of numpy, it will be understood as (type, (1,)) / '(1,)type'.\n",
      "  np_resource = np.dtype([(\"resource\", np.ubyte, 1)])\n",
      "C:\\ProgramData\\Anaconda3\\lib\\site-packages\\tensorboard\\compat\\tensorflow_stub\\dtypes.py:541: FutureWarning: Passing (type, 1) or '1type' as a synonym of type is deprecated; in a future version of numpy, it will be understood as (type, (1,)) / '(1,)type'.\n",
      "  _np_qint8 = np.dtype([(\"qint8\", np.int8, 1)])\n",
      "C:\\ProgramData\\Anaconda3\\lib\\site-packages\\tensorboard\\compat\\tensorflow_stub\\dtypes.py:542: FutureWarning: Passing (type, 1) or '1type' as a synonym of type is deprecated; in a future version of numpy, it will be understood as (type, (1,)) / '(1,)type'.\n",
      "  _np_quint8 = np.dtype([(\"quint8\", np.uint8, 1)])\n",
      "C:\\ProgramData\\Anaconda3\\lib\\site-packages\\tensorboard\\compat\\tensorflow_stub\\dtypes.py:543: FutureWarning: Passing (type, 1) or '1type' as a synonym of type is deprecated; in a future version of numpy, it will be understood as (type, (1,)) / '(1,)type'.\n",
      "  _np_qint16 = np.dtype([(\"qint16\", np.int16, 1)])\n",
      "C:\\ProgramData\\Anaconda3\\lib\\site-packages\\tensorboard\\compat\\tensorflow_stub\\dtypes.py:544: FutureWarning: Passing (type, 1) or '1type' as a synonym of type is deprecated; in a future version of numpy, it will be understood as (type, (1,)) / '(1,)type'.\n",
      "  _np_quint16 = np.dtype([(\"quint16\", np.uint16, 1)])\n",
      "C:\\ProgramData\\Anaconda3\\lib\\site-packages\\tensorboard\\compat\\tensorflow_stub\\dtypes.py:545: FutureWarning: Passing (type, 1) or '1type' as a synonym of type is deprecated; in a future version of numpy, it will be understood as (type, (1,)) / '(1,)type'.\n",
      "  _np_qint32 = np.dtype([(\"qint32\", np.int32, 1)])\n",
      "C:\\ProgramData\\Anaconda3\\lib\\site-packages\\tensorboard\\compat\\tensorflow_stub\\dtypes.py:550: FutureWarning: Passing (type, 1) or '1type' as a synonym of type is deprecated; in a future version of numpy, it will be understood as (type, (1,)) / '(1,)type'.\n",
      "  np_resource = np.dtype([(\"resource\", np.ubyte, 1)])\n"
     ]
    }
   ],
   "source": [
    "import tensorflow as tf"
   ]
  },
  {
   "cell_type": "markdown",
   "metadata": {},
   "source": [
    "## 변수 저장"
   ]
  },
  {
   "cell_type": "code",
   "execution_count": 3,
   "metadata": {},
   "outputs": [
    {
     "name": "stdout",
     "output_type": "stream",
     "text": [
      "1005\n",
      "1010\n"
     ]
    }
   ],
   "source": [
    "v = tf.Variable(5)\n",
    "w = tf.Variable(10, name='www')\n",
    "updateV = v.assign_add(1)\n",
    "updateW = w.assign_add(1)\n",
    "init = tf.global_variables_initializer()\n",
    "saver = tf.train.Saver()\n",
    "\n",
    "with tf.Session() as sess:\n",
    "    sess.run(init)\n",
    "    for epoch in range(1000):\n",
    "        sess.run([updateV, updateW])\n",
    "    saver.save(sess, \"/tmp/variables_final.dat\")\n",
    "    finalV = v.eval()\n",
    "    finalW = w.eval()\n",
    "    print(finalV)\n",
    "    print(finalW)"
   ]
  },
  {
   "cell_type": "code",
   "execution_count": 5,
   "metadata": {},
   "outputs": [
    {
     "name": "stdout",
     "output_type": "stream",
     "text": [
      "5\n"
     ]
    }
   ],
   "source": [
    "#위에서 업데이트 한 내용은 세션 자체에 저장되어서 save된 상태이다.\n",
    "#v 자체는 단순 노드임.\n",
    "init = tf.global_variables_initializer()\n",
    "with tf.Session() as sess:\n",
    "    sess.run(init)\n",
    "    print(v.eval())"
   ]
  },
  {
   "cell_type": "code",
   "execution_count": 6,
   "metadata": {},
   "outputs": [
    {
     "name": "stdout",
     "output_type": "stream",
     "text": [
      "WARNING:tensorflow:From C:\\ProgramData\\Anaconda3\\lib\\site-packages\\tensorflow\\python\\training\\saver.py:1276: checkpoint_exists (from tensorflow.python.training.checkpoint_management) is deprecated and will be removed in a future version.\n",
      "Instructions for updating:\n",
      "Use standard file APIs to check for files with this prefix.\n",
      "INFO:tensorflow:Restoring parameters from /tmp/variables_final.dat\n",
      "1005\n",
      "1010\n"
     ]
    }
   ],
   "source": [
    "with tf.Session() as sess:\n",
    "    saver.restore(sess, \"/tmp/variables_final.dat\")\n",
    "    finalV = v.eval()\n",
    "    finalW = w.eval()\n",
    "    print(finalV)\n",
    "    print(finalW)"
   ]
  },
  {
   "cell_type": "markdown",
   "metadata": {},
   "source": [
    "## 변수 공유\n",
    "공유하고자 하는 변수들에 별도의 scope를 부여하고\n",
    "공유 여부를 지정하는 reuse 플래그를 사용하여 공유.\n",
    "tf.variable_scope(\"namespace\", reuse=True)\n",
    "v = tf.get_variable(name, shape, dtype, initializer)"
   ]
  },
  {
   "cell_type": "code",
   "execution_count": 22,
   "metadata": {},
   "outputs": [
    {
     "name": "stdout",
     "output_type": "stream",
     "text": [
      "mynamespace\n"
     ]
    }
   ],
   "source": [
    "with tf.variable_scope(\"mynamespace\", reuse=True):\n",
    "    print(tf.get_variable_scope().name)\n",
    "    x = tf.get_variable(\"x\", [1])\n",
    "    y = tf.get_variable(\"y\", [1])\n",
    "# reuse가 False이면 변수가 없는경우 새로 생성, 있으면 오류\n",
    "# True이면 변수가 없는 경우 오류, 있는경우 가져다가 사용\n",
    "with tf.variable_scope(\"mynamespace\"):\n",
    "    tf.get_variable_scope().reuse_variables() #reuse 플래그를 true로 만들어준다.\n",
    "    x2 = tf.get_variable(\"x\", [1])\n",
    "    y2 = tf.get_variable(\"y\", [1])\n",
    "    \n",
    "assert x == x2 and y == y2"
   ]
  },
  {
   "cell_type": "code",
   "execution_count": 30,
   "metadata": {},
   "outputs": [
    {
     "name": "stdout",
     "output_type": "stream",
     "text": [
      "namespace/v:0\n",
      "namespace_11/sub/w:0\n",
      "namespace_11/sub/add:0\n"
     ]
    }
   ],
   "source": [
    "with tf.variable_scope(\"namespace\", initializer=tf.constant_initializer(6),reuse=True):\n",
    "    with tf.name_scope(\"sub\") :\n",
    "        v=tf.get_variable(\"v\", [1], initializer=tf.constant_initializer(5))\n",
    "        w=tf.Variable(3, name=\"w\")\n",
    "        x = 1+v\n",
    "        print(v.name)\n",
    "        print(w.name)\n",
    "        print(x.name)\n",
    "        \n",
    "#initializer가 제대로 안먹히는데,,,\n",
    "        "
   ]
  },
  {
   "cell_type": "markdown",
   "metadata": {},
   "source": [
    "# 시각화\n",
    "anaconda cmd => tensorboard --logdir=\"/tmp/graphs\" --port 6006 --host=127.0.0.1\n",
    "실행 => 브라우저에서 localhost:6006\n"
   ]
  },
  {
   "cell_type": "code",
   "execution_count": 34,
   "metadata": {},
   "outputs": [],
   "source": [
    "c1 = tf.constant(2)\n",
    "c2 = tf.constant(3)\n",
    "x = tf.add(c1, c2)\n",
    "y = tf.subtract(c1,c2)\n",
    "\n",
    "with tf.Session() as sess:\n",
    "    sess.run(x)\n",
    "    writer = tf.summary.FileWriter(\"/tmp/graphs\", sess.graph)\n",
    "    writer.close()"
   ]
  },
  {
   "cell_type": "code",
   "execution_count": 37,
   "metadata": {},
   "outputs": [],
   "source": [
    "rnd1 = tf.random_uniform([1], 0, 100, dtype=tf.int32)\n",
    "rnd2 = tf.random_uniform([1], 0, 100, dtype=tf.int32)\n",
    "err = tf.subtract(rnd1[0] , rnd2[0])\n",
    "err_summary = tf.summary.scalar('Error', err)\n",
    "file_writer = tf.summary.FileWriter(\"/tmp/graphs\")\n",
    "\n",
    "with tf.Session() as sess:\n",
    "    for step in range(1000):\n",
    "        if step%10 == 0:\n",
    "            summary_str = err_summary.eval()\n",
    "            file_writer.add_summary(summary_str, step)\n",
    "    file_writer.close()"
   ]
  }
 ],
 "metadata": {
  "kernelspec": {
   "display_name": "Python 3",
   "language": "python",
   "name": "python3"
  },
  "language_info": {
   "codemirror_mode": {
    "name": "ipython",
    "version": 3
   },
   "file_extension": ".py",
   "mimetype": "text/x-python",
   "name": "python",
   "nbconvert_exporter": "python",
   "pygments_lexer": "ipython3",
   "version": "3.6.8"
  }
 },
 "nbformat": 4,
 "nbformat_minor": 4
}
